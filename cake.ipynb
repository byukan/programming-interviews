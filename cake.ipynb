{
 "cells": [
  {
   "cell_type": "code",
   "execution_count": 31,
   "metadata": {
    "scrolled": true
   },
   "outputs": [
    {
     "data": {
      "text/plain": [
       "{'n': {'a': {'r': {'u': {'t': {'o': {'\\x00': {},\n",
       "       '_': {'s': {'h': {'i': {'p': {'p': {'u': {'d': {'e': {'n': {'\\x00': {}}}}}}}}}}}}}}}}}}"
      ]
     },
     "execution_count": 31,
     "metadata": {},
     "output_type": "execute_result"
    }
   ],
   "source": [
    "class Trie:\n",
    "    def __init__(self):\n",
    "        self.root = {}\n",
    "        \n",
    "    def add(self, word):\n",
    "        \"\"\"\n",
    "        check if word is in trie and add it\n",
    "        \"\"\"\n",
    "        node = self.root\n",
    "        is_new_word = False\n",
    "        \n",
    "        for char in word:\n",
    "            if char not in node:\n",
    "                is_new_word = True\n",
    "                node[char] = {}\n",
    "            node = node[char]\n",
    "            \n",
    "        # mark the end of the word with a special character\n",
    "        if '\\0' not in node:\n",
    "            is_new_word = True\n",
    "            node['\\0'] = {}\n",
    "            \n",
    "        return is_new_word\n",
    "\n",
    "            \n",
    "t = Trie()\n",
    "t.add('naruto')\n",
    "t.add('naruto_shippuden')\n",
    "t.add('naruto_shippuden')\n",
    "t.root"
   ]
  },
  {
   "cell_type": "code",
   "execution_count": 1,
   "metadata": {
    "scrolled": false
   },
   "outputs": [
    {
     "data": {
      "text/plain": [
       "'\\x00'"
      ]
     },
     "execution_count": 1,
     "metadata": {},
     "output_type": "execute_result"
    }
   ],
   "source": [
    "'\\0'"
   ]
  },
  {
   "cell_type": "code",
   "execution_count": 1,
   "metadata": {
    "scrolled": false
   },
   "outputs": [],
   "source": [
    "class TreeNode:\n",
    "    def __init__(self, value):\n",
    "        self.value = value\n",
    "        self.left = None\n",
    "        self.right = None\n",
    "        \n",
    "    def insert_left(self, value):\n",
    "        self.left = TreeNode(value)\n",
    "        return self.left\n",
    "    \n",
    "    def insert_right(self, value):\n",
    "        self.right = TreeNode(value)\n",
    "        return self.right\n",
    "    \n",
    "    def largest(self, root):\n",
    "        \"\"\"\n",
    "        @brief rightmost leaf is the largest element\n",
    "        :param: root is the root node of the tree or subtree\n",
    "        :return: largest element in binary search tree\n",
    "        \"\"\"\n",
    "\n",
    "        current = root\n",
    "        \n",
    "        while current.right:\n",
    "            current = current.right\n",
    "        return current.value\n",
    "    \n",
    "    def second_largest(self, node):\n",
    "        \"\"\"\n",
    "        @brief the second largest element in a binary search tree is either the rightmost child,\n",
    "        or the largest node of the left subtree of the rightmost child\n",
    "        \"\"\"\n",
    "        if not node or (not node.left or not node.right):\n",
    "            raise Exception('Tree must have at least 2 nodes.')\n",
    "        \n",
    "        current = node\n",
    "        \n",
    "        while current:\n",
    "            \n",
    "            # case where rightmost child has no left subtree\n",
    "            if current.right and not current.right.right and not current.right.left:\n",
    "                return current.value  # current node is 2nd largest\n",
    "            \n",
    "            # case where rightmost child has left subtree\n",
    "            if not current.right and current.left:\n",
    "                return largest(current.left)\n",
    "            \n",
    "            current = current.right\n",
    "        \n",
    "#         while node.right.right:  # stops at the parent of the rightmost leaf\n",
    "#             node = node.right\n",
    "        \n",
    "#         if node.right.left:\n",
    "#             return largest(node.right.left)\n",
    "#         else:\n",
    "#             return node.value\n",
    "        \n",
    "#         wrong:\n",
    "#         rightmost_leaf = largest(root)\n",
    "#         return largest(rightmost_leaf.left) if rightmost_leaf.left else rightmost_leaf\n",
    "    \n",
    "        \n",
    "    \n",
    "    def inorder_print(node):\n",
    "        \"\"\"\n",
    "        prints elements in order, recursively print left subtree, then current node, then right subtree\n",
    "        O(n) time\n",
    "        \"\"\"\n",
    "        inorder_print(node.left)\n",
    "        print(node.value)\n",
    "        inorder_print(node.right)\n",
    "        \n",
    "#     def second_largest(self, node):\n",
    "    \n",
    "#         current = node\n",
    "        \n",
    "#         # less than 2 nodes in tree\n",
    "#         if not current or (not current.right and not current.left):\n",
    "#             raise Exception('Tree must have at least 2 nodes.')\n",
    "            \n",
    "#         while current:\n",
    "            \n",
    "#             # rightmost leaf has left subtree\n",
    "#             if not current.right and current.left:\n",
    "#                 return largest(current.left)\n",
    "            \n",
    "#             # rightmost leaf does not have left subtree, stop at the node above\n",
    "#             if current.right and not current.right.right and not current.right.left:\n",
    "#                 return current.value\n",
    "            \n",
    "#             current = current.right"
   ]
  },
  {
   "cell_type": "code",
   "execution_count": 4,
   "metadata": {
    "collapsed": true
   },
   "outputs": [],
   "source": [
    "# binary search tree checker\n",
    "\n",
    "class TreeNode:\n",
    "    def __init__(self, value):\n",
    "        self.value = value\n",
    "        self.left = None\n",
    "        self.right = None\n",
    "        \n",
    "    def insert_left(self, value):\n",
    "        self.left = TreeNode(value)\n",
    "        return self.left\n",
    "    \n",
    "    def insert_right(self, value):\n",
    "        self.right = TreeNode(value)\n",
    "        return self.right\n",
    "    \n",
    "    def is_binary_search_tree(self, root):\n",
    "        \"\"\"\n",
    "        depth first traversal, keeping track of upper and lower bounds as you append children to nodes stack\n",
    "        \"\"\"\n",
    "        \n",
    "        if root is None:\n",
    "            raise Exception(\"Input node is None.\")\n",
    "        \n",
    "        # store nodes along with upper and lower bounds for their children\n",
    "        nodes = [(root, float('inf'), -float('inf'))]\n",
    "        \n",
    "        while len(nodes):\n",
    "            node, upper_bound, lower_bound = nodes.pop()\n",
    "            \n",
    "            # check if value is less than upper bound and greater than lower bound\n",
    "            if not (node.value < upper_bound or node.value > lower_bound):\n",
    "                return False\n",
    "            \n",
    "            if node.left:\n",
    "                nodes.append(node.left, node.value, lower_bound)\n",
    "            if node.right:\n",
    "                nodes.append(node.right, upper_bound, node.value)\n",
    "                \n",
    "        return True\n",
    "        \n",
    "        "
   ]
  },
  {
   "cell_type": "code",
   "execution_count": 134,
   "metadata": {
    "scrolled": true
   },
   "outputs": [
    {
     "data": {
      "text/plain": [
       "3"
      ]
     },
     "execution_count": 134,
     "metadata": {},
     "output_type": "execute_result"
    }
   ],
   "source": [
    "class TempTracker:\n",
    "    def __init__(self):\n",
    "        \n",
    "        from collections import Counter\n",
    "        \n",
    "#         self.temps = []\n",
    "        self.max  = None\n",
    "        self.min = None\n",
    "        self.mean = None\n",
    "        self.mode = None\n",
    "        \n",
    "        self.sum = 0\n",
    "        self.number_of_temps = 0\n",
    "        \n",
    "        self.counts = [0] * 111\n",
    "        self.max_count = 0\n",
    "        \n",
    "            \n",
    "    def insert(self, temp):\n",
    "        \n",
    "        if not self.mode:\n",
    "            self.mode = temp\n",
    "            \n",
    "        # assume valid input\n",
    "        self.number_of_temps += 1\n",
    "        self.sum += temp\n",
    "#         self.temps.append(temp)\n",
    "        \n",
    "        if not self.max or temp > self.max:\n",
    "            self.max = temp\n",
    "        if not self.min or temp < self.min:\n",
    "            self.min = temp\n",
    "            \n",
    "        if not self.mean:\n",
    "            self.mean = temp\n",
    "        else:\n",
    "            self.mean = self.sum / self.number_of_temps\n",
    "        \n",
    "        \n",
    "        # for mode\n",
    "        self.counts[temp] += 1\n",
    "\n",
    "        if temp == self.mode:\n",
    "            self.max_count += 1\n",
    "        \n",
    "        if self.counts[temp] > self.max_count:\n",
    "            self.mode = temp\n",
    "            self.max_count = self.counts[temp]\n",
    "        \n",
    "        \n",
    "            \n",
    "    def get_min(self):\n",
    "        return self.min\n",
    "    \n",
    "    def get_max(self):\n",
    "        return self.max\n",
    "    \n",
    "    def get_mean(self):\n",
    "        return self.mean\n",
    "    \n",
    "    def get_mode(self):\n",
    "        return self.mode\n",
    "    \n",
    "    \n",
    "tt = TempTracker()\n",
    "tt.insert(2)\n",
    "tt.insert(3)\n",
    "tt.insert(3)\n",
    "tt.insert(3)\n",
    "tt.insert(3)\n",
    "tt.insert(2)\n",
    "tt.insert(1)\n",
    "tt.get_max(), tt.get_min()\n",
    "tt.get_mean()\n",
    "tt.get_mode()"
   ]
  },
  {
   "cell_type": "code",
   "execution_count": 70,
   "metadata": {
    "scrolled": true
   },
   "outputs": [
    {
     "data": {
      "text/plain": [
       "{'bottom_y': 1, 'height': 2, 'left_x': 3, 'width': 2}"
      ]
     },
     "execution_count": 70,
     "metadata": {},
     "output_type": "execute_result"
    }
   ],
   "source": [
    "def overlap_length(a, b, a_len, b_len):\n",
    "    \"\"\"\n",
    "    can also compute the left_x and bottom_y withing this helper function and return results in tuple\n",
    "    \"\"\"\n",
    "    \n",
    "    lowest_end = min(a + a_len, b + b_len)\n",
    "    highest_start = max(a, b)\n",
    "    \n",
    "    return None if lowest_end - highest_start < 0 else lowest_end - highest_start\n",
    "\n",
    "def intersection(a, b):\n",
    "    \"\"\"\n",
    "    let c be the intersection of a and b\n",
    "    \"\"\"\n",
    "    c = {}\n",
    "    \n",
    "    c['left_x'] = max(a['left_x'], b['left_x'])\n",
    "    c['bottom_y'] = max(a['bottom_y'], b['bottom_y'])\n",
    "    \n",
    "    c['width'] = overlap_length(a['left_x'], b['left_x'], a['width'], b['width'])\n",
    "    c['height'] = overlap_length(a['bottom_y'], b['bottom_y'], a['height'], b['height'])\n",
    "    \n",
    "    return c\n",
    "\n",
    "\n",
    "a = {'left_x': 0,\n",
    "    'bottom_y': 0, \n",
    "    'width': 5, \n",
    "    'height': 3\n",
    "    }\n",
    "b = {'left_x': 3,\n",
    "    'bottom_y': 1, \n",
    "    'width': 6, \n",
    "    'height': 5\n",
    "    }\n",
    "\n",
    "intersection(a,b)"
   ]
  },
  {
   "cell_type": "code",
   "execution_count": 8,
   "metadata": {
    "scrolled": false
   },
   "outputs": [
    {
     "data": {
      "text/plain": [
       "4"
      ]
     },
     "execution_count": 8,
     "metadata": {},
     "output_type": "execute_result"
    }
   ],
   "source": [
    "def make_change(amount, denominations):\n",
    "    \n",
    "    ways_of_doing_n_cents = [1] + [0] * amount\n",
    "    \n",
    "    for coin in denominations:\n",
    "        for amt in range(coin, amount+1):\n",
    "#             if coin <= amt:\n",
    "#                 print(amt, coin)\n",
    "                number_of_ways[amt] += number_of_ways[amt-coin]\n",
    "#             print(number_of_ways)\n",
    "\n",
    "    return number_of_ways[amount]\n",
    "\n",
    "\n",
    "amount = 4\n",
    "denominations = [1, 2, 3]\n",
    "\n",
    "make_change(amount, denominations)"
   ]
  },
  {
   "cell_type": "code",
   "execution_count": 7,
   "metadata": {},
   "outputs": [
    {
     "data": {
      "text/plain": [
       "[1, 0, 0, 0, 0]"
      ]
     },
     "execution_count": 7,
     "metadata": {},
     "output_type": "execute_result"
    }
   ],
   "source": [
    "[1] + [0] * 4"
   ]
  },
  {
   "cell_type": "code",
   "execution_count": 24,
   "metadata": {
    "scrolled": false
   },
   "outputs": [
    {
     "data": {
      "text/plain": [
       "[(0, 1), (3, 5), (4, 8), (9, 10), (10, 12)]"
      ]
     },
     "execution_count": 24,
     "metadata": {},
     "output_type": "execute_result"
    }
   ],
   "source": [
    "v = [(0, 1), (3, 5), (4, 8), (10, 12), (9, 10)]\n",
    "v.sort()\n",
    "v"
   ]
  },
  {
   "cell_type": "code",
   "execution_count": 30,
   "metadata": {},
   "outputs": [
    {
     "data": {
      "text/plain": [
       "[(0, 1), (3, 8), (9, 12)]"
      ]
     },
     "execution_count": 30,
     "metadata": {},
     "output_type": "execute_result"
    }
   ],
   "source": [
    "def merge_ranges(ranges):\n",
    "    sorted_ranges = sorted(ranges)  # sort by start time\n",
    "    \n",
    "    merged_times = [sorted_ranges[0]]\n",
    "    \n",
    "    # use tuple unpacking\n",
    "    for current_start, current_end in sorted_ranges[1:]:\n",
    "        \n",
    "        merged_start, merged_end = merged_times[-1]\n",
    "        \n",
    "        if merged_end >= current_start:\n",
    "            merged_times[-1] = (merged_start, max(merged_end, current_end))\n",
    "        else:\n",
    "            # meetings don't overlap, and we want to append it to merged_times\n",
    "            merged_times.append((current_start, current_end))\n",
    "    return merged_times\n",
    "        \n",
    "    \n",
    "    \n",
    "    \n",
    "# [(1, 10), (2, 6), (3, 5), (7, 9)] -> [(1,10)]\n",
    "assert([(0, 1), (3, 8), (9, 12)] == merge_ranges([(0, 1), (3, 5), (4, 8), (10, 12), (9, 10)]))\n",
    "# merge_ranges([(0, 1), (3, 5), (4, 8), (10, 12), (9, 10)])\n",
    "\n",
    "merge_ranges([(0, 1), (3, 5), (4, 8), (10, 12), (9, 10)])"
   ]
  },
  {
   "cell_type": "code",
   "execution_count": 67,
   "metadata": {
    "scrolled": false
   },
   "outputs": [
    {
     "data": {
      "text/plain": [
       "300"
      ]
     },
     "execution_count": 67,
     "metadata": {},
     "output_type": "execute_result"
    }
   ],
   "source": [
    "def highest_product(v):\n",
    "    from functools import reduce\n",
    "    from operator import mul\n",
    "    \n",
    "    # keep track of the sub highest products\n",
    "    # highest of 3 will be highest of: 3, highest 2 * x, lowest_2*x\n",
    "    \n",
    "    if len(v) < 3:\n",
    "        raise Exception(\"Input list needs to have at least 3 elements.\")\n",
    "        \n",
    "    highest_3 = reduce(mul, (v[:3]))\n",
    "    highest_2 = v[0] * v[1]\n",
    "    lowest_2 = v[0] * v[1]\n",
    "    highest = max(v[0], v[1])\n",
    "    lowest = min(v[0], v[1])\n",
    "    \n",
    "    for i, x in enumerate(v[2:]):\n",
    "        highest_3 = max(highest_3, highest_2*x, lowest_2*x)\n",
    "        \n",
    "        lowest_2 = min(lowest_2, lowest*x, highest*x)\n",
    "        highest_2 = max(highest_2, lowest*x, highest*x)\n",
    "        \n",
    "        lowest = min(lowest, x)\n",
    "        highest = max(highest, x)\n",
    "        \n",
    "    return highest_3\n",
    "    \n",
    "    \n",
    "    \n",
    "# v = [-9, 5, 2, 6, -1]\n",
    "v = [-10, -10,1,3,2]\n",
    "\n",
    "highest_product(v)"
   ]
  },
  {
   "cell_type": "code",
   "execution_count": 48,
   "metadata": {
    "scrolled": false
   },
   "outputs": [
    {
     "data": {
      "text/plain": [
       "[540, 270, 90, 108, 60]"
      ]
     },
     "execution_count": 48,
     "metadata": {},
     "output_type": "execute_result"
    }
   ],
   "source": [
    "from operator import mul\n",
    "from functools import reduce\n",
    "\n",
    "v = [1, 2, 6, 5, 9]\n",
    "\n",
    "# brute force\n",
    "def prod_of_all_others(v):\n",
    "    products = []\n",
    "    for i in range(len(v)):\n",
    "        products.append(reduce(mul, v[:i]+v[i+1:]))\n",
    "    return products\n",
    "\n",
    "prod_of_all_others(v)\n",
    "\n",
    "\n",
    "# greedy approach\n",
    "def product_of_all_others(v):\n",
    "    lhs = 1\n",
    "    rhs = 1\n",
    "    \n",
    "    products = [None]*len(v)\n",
    "    \n",
    "    for i, x in enumerate(v):\n",
    "        products[i] = lhs\n",
    "        lhs *= v[i]\n",
    "        \n",
    "    for i, x in enumerate(v):\n",
    "        products[len(v)-1-i] *= rhs\n",
    "        rhs *= v[len(v)-1-i]\n",
    "        \n",
    "        \n",
    "    return products\n",
    "        \n",
    "    \n",
    "assert(product_of_all_others(v) == [540, 270, 90, 108, 60])\n",
    "product_of_all_others(v)"
   ]
  },
  {
   "cell_type": "code",
   "execution_count": 8,
   "metadata": {
    "scrolled": true
   },
   "outputs": [
    {
     "data": {
      "text/plain": [
       "6"
      ]
     },
     "execution_count": 8,
     "metadata": {},
     "output_type": "execute_result"
    }
   ],
   "source": [
    "stock_prices_yesterday = [10, 7, 5, 8, 11, 9]\n",
    "\n",
    "def max_profit(v):\n",
    "    if len(v) < 2:\n",
    "        raise IndexError(\"Getting a profit requires at least 2 stock ticks.\")\n",
    "    \n",
    "    # greedy approach, calculate max profit at each day\n",
    "    highest_profit = v[1] - v[0]  # buy at opening, sell at 1st tick\n",
    "    day_low = min(v[1], v[0])\n",
    "    \n",
    "    for i, x in enumerate(v[2:]):\n",
    "        profit = x - day_low\n",
    "        day_low = min(x, day_low)  # update the day_low\n",
    "        highest_profit = max(profit, highest_profit)\n",
    "        \n",
    "    return highest_profit\n",
    "    \n",
    "    \n",
    "max_profit(stock_prices_yesterday)"
   ]
  },
  {
   "cell_type": "code",
   "execution_count": null,
   "metadata": {
    "collapsed": true
   },
   "outputs": [],
   "source": [
    "class LinkedListNode:\n",
    "    def __init__(self, value):\n",
    "        self.value = value\n",
    "        self.next = None\n",
    "        \n",
    "def reverse(head):\n",
    "    current = head\n",
    "    previous = None\n",
    "    next = None\n",
    "    \n",
    "    while current:\n",
    "        next = current.next\n",
    "        current.next = previous\n",
    "        \n",
    "        # step forward in the list\n",
    "        previous = current\n",
    "        current = next\n",
    "        \n",
    "    return previous\n",
    "\n"
   ]
  },
  {
   "cell_type": "code",
   "execution_count": 141,
   "metadata": {
    "scrolled": false
   },
   "outputs": [
    {
     "data": {
      "text/plain": [
       "64"
      ]
     },
     "execution_count": 141,
     "metadata": {},
     "output_type": "execute_result"
    }
   ],
   "source": [
    "def find_singleton(ids):\n",
    "    unique_id = 0\n",
    "    for id in ids:\n",
    "        unique_id ^= int(id)\n",
    "    return unique_id\n",
    "\n",
    "\n",
    "ids = \"1024 2 4 8 16 64 32 32 16 8 4 2 1024\".split(\" \")     \n",
    "find_singleton(ids)"
   ]
  },
  {
   "cell_type": "code",
   "execution_count": 136,
   "metadata": {
    "scrolled": false
   },
   "outputs": [
    {
     "data": {
      "text/plain": [
       "'1024'"
      ]
     },
     "execution_count": 136,
     "metadata": {},
     "output_type": "execute_result"
    }
   ],
   "source": [
    "# # if we weren't able to import Counter\n",
    "# def find_singleton(ids):\n",
    "#     counts = {}\n",
    "#     for id in ids:\n",
    "# #         counts[id] += 1 if id in counts else 1\n",
    "#         if id in counts:\n",
    "#             counts[id] += 1\n",
    "#         else:\n",
    "#             counts[id] = 1\n",
    "#     for key, value in counts.items():\n",
    "#         if value == 1:\n",
    "#             return key\n",
    "\n",
    "\n",
    "from collections import Counter\n",
    "def find_singleton(ids):\n",
    "    counts = Counter(ids)\n",
    "    for key, value in counts.items():\n",
    "        if value == 1:\n",
    "            return key\n",
    "\n",
    "ids = \"2 4 8 16 32 32 16 8 4 2 1024\".split(\" \")     \n",
    "find_singleton(ids)"
   ]
  },
  {
   "cell_type": "code",
   "execution_count": 123,
   "metadata": {
    "scrolled": true
   },
   "outputs": [
    {
     "data": {
      "text/plain": [
       "array([[ 0.,  0.,  0.,  0.,  0.],\n",
       "       [ 0.,  0.,  0.,  0.,  0.]])"
      ]
     },
     "execution_count": 123,
     "metadata": {},
     "output_type": "execute_result"
    }
   ],
   "source": [
    "import numpy as np\n",
    "\n",
    "M = np.zeros((2,5))\n",
    "\n",
    "M"
   ]
  },
  {
   "cell_type": "code",
   "execution_count": 119,
   "metadata": {
    "scrolled": true
   },
   "outputs": [
    {
     "ename": "TypeError",
     "evalue": "Required argument 'shape' (pos 1) not found",
     "output_type": "error",
     "traceback": [
      "\u001b[0;31m---------------------------------------------------------------------------\u001b[0m",
      "\u001b[0;31mTypeError\u001b[0m                                 Traceback (most recent call last)",
      "\u001b[0;32m<ipython-input-119-80218b95e7f9>\u001b[0m in \u001b[0;36m<module>\u001b[0;34m()\u001b[0m\n\u001b[1;32m      1\u001b[0m \u001b[0mM\u001b[0m \u001b[0;34m=\u001b[0m \u001b[0;34m[\u001b[0m\u001b[0;34m[\u001b[0m\u001b[0;36m0\u001b[0m\u001b[0;34m]\u001b[0m\u001b[0;34m*\u001b[0m\u001b[0;36m6\u001b[0m\u001b[0;34m]\u001b[0m \u001b[0;34m*\u001b[0m \u001b[0;36m5\u001b[0m  \u001b[0;31m# 5x6 matrix\u001b[0m\u001b[0;34m\u001b[0m\u001b[0m\n\u001b[1;32m      2\u001b[0m \u001b[0;34m\u001b[0m\u001b[0m\n\u001b[0;32m----> 3\u001b[0;31m \u001b[0mM\u001b[0m \u001b[0;34m=\u001b[0m \u001b[0mnp\u001b[0m\u001b[0;34m.\u001b[0m\u001b[0mzeros\u001b[0m\u001b[0;34m(\u001b[0m\u001b[0;34m)\u001b[0m\u001b[0;34m\u001b[0m\u001b[0m\n\u001b[0m\u001b[1;32m      4\u001b[0m \u001b[0mM\u001b[0m\u001b[0;34m[\u001b[0m\u001b[0;36m3\u001b[0m\u001b[0;34m]\u001b[0m\u001b[0;34m[\u001b[0m\u001b[0;36m4\u001b[0m\u001b[0;34m]\u001b[0m\u001b[0;34m\u001b[0m\u001b[0m\n",
      "\u001b[0;31mTypeError\u001b[0m: Required argument 'shape' (pos 1) not found"
     ]
    }
   ],
   "source": [
    "M = [[0]*6] * 5  # 5x6 matrix\n",
    "\n",
    "M[3][4]"
   ]
  },
  {
   "cell_type": "code",
   "execution_count": 110,
   "metadata": {
    "scrolled": true
   },
   "outputs": [
    {
     "data": {
      "text/plain": [
       "555"
      ]
     },
     "execution_count": 110,
     "metadata": {},
     "output_type": "execute_result"
    }
   ],
   "source": [
    "def max_value_at_given_capacity(cake_tuples, max_capacity):\n",
    "\n",
    "\n",
    "    max_value = [0] * (max_capacity + 1)  # store the max value at kth capacity\n",
    "    \n",
    "    for weight, value in cake_tuples:\n",
    "        for k in range(max_capacity+1):  # we need to start at 0 because the new weight could be lower than previous weights, which would allow us to update lower ranges of max_values\n",
    "            \n",
    "            if weight == 0 and value > 0:\n",
    "                return float('inf')\n",
    "    \n",
    "            if weight <= k:  # don't have to consider if wake won't fit\n",
    "                max_value[k] = max(max_value[k], value + max_value[k-weight])\n",
    "\n",
    "    return max_value[max_capacity]\n",
    "\n",
    "\n",
    "cake_tuples = [(7, 160), (3, 90), (2, 15)]\n",
    "capacity    = 20\n",
    "\n",
    "max_value_at_given_capacity(cake_tuples, capacity)"
   ]
  },
  {
   "cell_type": "code",
   "execution_count": 104,
   "metadata": {},
   "outputs": [
    {
     "data": {
      "text/plain": [
       "21"
      ]
     },
     "execution_count": 104,
     "metadata": {},
     "output_type": "execute_result"
    }
   ],
   "source": [
    "def fib(n):\n",
    "    \"\"\"\n",
    "    fibonacci with memoization\n",
    "    \"\"\"\n",
    "    if n < 2:\n",
    "        return n\n",
    "\n",
    "\n",
    "    two_before = 0\n",
    "    one_before = 1\n",
    "    for i in range(2, n+1):\n",
    "        current = two_before + one_before\n",
    "        two_before = one_before\n",
    "        one_before = current\n",
    "    return current\n",
    "\n",
    "fib(8)"
   ]
  },
  {
   "cell_type": "code",
   "execution_count": 98,
   "metadata": {
    "scrolled": false
   },
   "outputs": [
    {
     "data": {
      "text/plain": [
       "13"
      ]
     },
     "execution_count": 98,
     "metadata": {},
     "output_type": "execute_result"
    }
   ],
   "source": [
    "def fib(n):\n",
    "    if n < 2:\n",
    "        return n\n",
    "    \n",
    "#     total = 0\n",
    "    else:\n",
    "        one_before = 1\n",
    "        two_before = 0\n",
    "        for i in range(2, n+1):  # start at 2 because anything less is returned, go up to n+1 because we have to compute the total at n\n",
    "            current = one_before + two_before\n",
    "            # update our prev and prev_prev\n",
    "#             one_before = total\n",
    "#             two_before = one_before\n",
    "            # update two_before first because its value depends on two_before\n",
    "            two_before = one_before\n",
    "            one_before = current\n",
    "        return current\n",
    "\n",
    "\n",
    "fib(7)"
   ]
  },
  {
   "cell_type": "code",
   "execution_count": 71,
   "metadata": {
    "scrolled": true
   },
   "outputs": [
    {
     "data": {
      "text/plain": [
       "55"
      ]
     },
     "execution_count": 71,
     "metadata": {},
     "output_type": "execute_result"
    }
   ],
   "source": [
    "def fib(n):\n",
    "    \"\"\"\n",
    "    recursive fibonacci is O(2^n)\n",
    "    \"\"\"\n",
    "    if n < 2:\n",
    "        return n\n",
    "    return fib(n-1) + fib(n-2)\n",
    "    \n",
    "fib(10)"
   ]
  },
  {
   "cell_type": "code",
   "execution_count": 64,
   "metadata": {
    "scrolled": true
   },
   "outputs": [
    {
     "data": {
      "text/plain": [
       "False"
      ]
     },
     "execution_count": 64,
     "metadata": {},
     "output_type": "execute_result"
    }
   ],
   "source": [
    "s = set()\n",
    "5 in s"
   ]
  },
  {
   "cell_type": "code",
   "execution_count": 63,
   "metadata": {
    "scrolled": true
   },
   "outputs": [
    {
     "data": {
      "text/plain": [
       "4"
      ]
     },
     "execution_count": 63,
     "metadata": {},
     "output_type": "execute_result"
    }
   ],
   "source": [
    "def find_pivot(v):\n",
    "    \"\"\"\n",
    "    find the pivot, given a list of words.  We use the binary search technique, exploiting the fact that the pivot has the property that it is less than the previous element.  This algorithm cuts the number of possibilities in half at each iteration, giving us O(n^2) time, and O(1) memory.\n",
    "\n",
    "\n",
    "compare the mid element to endpoints to know whether to check the lhs or rhs\n",
    "    \"\"\"\n",
    "    low = 0\n",
    "    high = len(v) - 1\n",
    "\n",
    "\n",
    "    while low <= high:\n",
    "        mid = (low + high)//2\n",
    "\n",
    "\n",
    "        if v[mid] < v[mid-1]:  # found the pivot\n",
    "            return mid\n",
    "        # from testing examples, if v[mid] > low, search rhs\n",
    "        #                 if v[mid] < low, search lhs\n",
    "        elif v[mid] > v[low]:  # rhs\n",
    "            low = mid + 1\n",
    "        elif v[mid] < v[low]:  # lhs\n",
    "            high = mid - 1\n",
    "\n",
    "\n",
    "    return \"couldn't find pivot\"\n",
    "\n",
    "\n",
    "v =  list('d e f g a b'.split(' '))\n",
    "find_pivot(v)"
   ]
  },
  {
   "cell_type": "code",
   "execution_count": 60,
   "metadata": {},
   "outputs": [
    {
     "data": {
      "text/plain": [
       "6"
      ]
     },
     "execution_count": 60,
     "metadata": {},
     "output_type": "execute_result"
    }
   ],
   "source": [
    "def binary_search(n, v):\n",
    "    low = 0\n",
    "    high = len(v) - 1\n",
    "\n",
    "    while low <= high:  # we need to run loop when low == high to get our target index\n",
    "        mid = (low+high) // 2\n",
    "        if n > v[mid]:  # search rhs by updating low\n",
    "            low = mid + 1\n",
    "        elif n < v[mid]:\n",
    "            high = mid - 1\n",
    "        elif n == v[mid]:\n",
    "            return mid  # return the index of n in the list v\n",
    "    \n",
    "    return False\n",
    "\n",
    "\n",
    "\n",
    "v = [2, 4, 8, 16, 32, 64, 128]\n",
    "\n",
    "binary_search(128, v)"
   ]
  },
  {
   "cell_type": "code",
   "execution_count": 51,
   "metadata": {
    "collapsed": true
   },
   "outputs": [],
   "source": [
    "class Trie:\n",
    "    def __init__(self):\n",
    "        self.root_node = {}\n",
    "        \n",
    "    def check_present_and_add(self, word):\n",
    "        \n",
    "        current_node = self.root_node\n",
    "        is_new_word = False\n",
    "        \n",
    "        # walk down the trie, keeping track of whether we see a new word(and if so add it), and update the current_node\n",
    "        for char in word:\n",
    "            if char not in current_node:\n",
    "                is_new_word = True\n",
    "                current_node[char] = {}\n",
    "            current_node = current_node[char]\n",
    "            \n",
    "        # explicitly mark \"End of word\", otherwise we might incorrecly return that a substring of a longer string is present.\n",
    "        if \"End of word\" not in current_node:\n",
    "            is_new_word = True\n",
    "            current_node['End of word'] = {}\n",
    "            \n",
    "        return is_new_word"
   ]
  },
  {
   "cell_type": "code",
   "execution_count": 47,
   "metadata": {
    "scrolled": false
   },
   "outputs": [
    {
     "data": {
      "text/plain": [
       "[(5, 4)]"
      ]
     },
     "execution_count": 47,
     "metadata": {},
     "output_type": "execute_result"
    }
   ],
   "source": [
    "v = []\n",
    "v.append((5, 4))\n",
    "v"
   ]
  },
  {
   "cell_type": "code",
   "execution_count": 44,
   "metadata": {
    "scrolled": false
   },
   "outputs": [
    {
     "data": {
      "text/plain": [
       "8"
      ]
     },
     "execution_count": 44,
     "metadata": {},
     "output_type": "execute_result"
    }
   ],
   "source": [
    "v = [2, 4, 8, 8, 16, 16, 32, 64]\n",
    "max(v, key=v.count)"
   ]
  },
  {
   "cell_type": "code",
   "execution_count": 32,
   "metadata": {
    "scrolled": true
   },
   "outputs": [
    {
     "data": {
      "text/plain": [
       "2097152"
      ]
     },
     "execution_count": 32,
     "metadata": {},
     "output_type": "execute_result"
    }
   ],
   "source": [
    "from functools import reduce\n",
    "from operator import mul\n",
    "\n",
    "v = [2, 4, 8, 16, 32, 64]\n",
    "reduce(mul, v)"
   ]
  },
  {
   "cell_type": "code",
   "execution_count": 25,
   "metadata": {
    "scrolled": false
   },
   "outputs": [
    {
     "data": {
      "text/plain": [
       "[]"
      ]
     },
     "execution_count": 25,
     "metadata": {},
     "output_type": "execute_result"
    }
   ],
   "source": [
    "[None] * 0"
   ]
  },
  {
   "cell_type": "code",
   "execution_count": 23,
   "metadata": {
    "scrolled": true
   },
   "outputs": [
    {
     "data": {
      "text/plain": [
       "[1, 4, 9]"
      ]
     },
     "execution_count": 23,
     "metadata": {},
     "output_type": "execute_result"
    }
   ],
   "source": [
    "# import numpy as np\n",
    "\n",
    "a = [1, 2, 3]\n",
    "b = [1, 2, 3]\n",
    "\n",
    "# np.array(a) * np.array(b)  # component wise product\n",
    "[ai * bi for ai, bi in zip(a, b)]"
   ]
  },
  {
   "cell_type": "code",
   "execution_count": 18,
   "metadata": {},
   "outputs": [
    {
     "name": "stdout",
     "output_type": "stream",
     "text": [
      "[1, 2, 8, 64, 1024, 32768]\n",
      "[1048576, 262144, 32768, 2048, 64, 1]\n"
     ]
    },
    {
     "ename": "TypeError",
     "evalue": "unsupported operand type(s) for @: 'list' and 'list'",
     "output_type": "error",
     "traceback": [
      "\u001b[0;31m---------------------------------------------------------------------------\u001b[0m",
      "\u001b[0;31mTypeError\u001b[0m                                 Traceback (most recent call last)",
      "\u001b[0;32m<ipython-input-18-f369a1bc992e>\u001b[0m in \u001b[0;36m<module>\u001b[0;34m()\u001b[0m\n\u001b[1;32m     30\u001b[0m \u001b[0;34m\u001b[0m\u001b[0m\n\u001b[1;32m     31\u001b[0m \u001b[0mv\u001b[0m \u001b[0;34m=\u001b[0m \u001b[0;34m[\u001b[0m\u001b[0;36m2\u001b[0m\u001b[0;34m,\u001b[0m \u001b[0;36m4\u001b[0m\u001b[0;34m,\u001b[0m \u001b[0;36m8\u001b[0m\u001b[0;34m,\u001b[0m \u001b[0;36m16\u001b[0m\u001b[0;34m,\u001b[0m \u001b[0;36m32\u001b[0m\u001b[0;34m,\u001b[0m \u001b[0;36m64\u001b[0m\u001b[0;34m]\u001b[0m\u001b[0;34m\u001b[0m\u001b[0m\n\u001b[0;32m---> 32\u001b[0;31m \u001b[0mproducts_excluding_index\u001b[0m\u001b[0;34m(\u001b[0m\u001b[0mv\u001b[0m\u001b[0;34m)\u001b[0m\u001b[0;34m\u001b[0m\u001b[0m\n\u001b[0m",
      "\u001b[0;32m<ipython-input-18-f369a1bc992e>\u001b[0m in \u001b[0;36mproducts_excluding_index\u001b[0;34m(v)\u001b[0m\n\u001b[1;32m     26\u001b[0m     \u001b[0mprint\u001b[0m\u001b[0;34m(\u001b[0m\u001b[0mlhs_products\u001b[0m\u001b[0;34m)\u001b[0m\u001b[0;34m\u001b[0m\u001b[0m\n\u001b[1;32m     27\u001b[0m     \u001b[0mprint\u001b[0m\u001b[0;34m(\u001b[0m\u001b[0mrhs_products\u001b[0m\u001b[0;34m)\u001b[0m\u001b[0;34m\u001b[0m\u001b[0m\n\u001b[0;32m---> 28\u001b[0;31m     \u001b[0;32mreturn\u001b[0m \u001b[0mlhs_products\u001b[0m \u001b[0;34m@\u001b[0m \u001b[0mrhs_products\u001b[0m\u001b[0;34m\u001b[0m\u001b[0m\n\u001b[0m\u001b[1;32m     29\u001b[0m \u001b[0;34m\u001b[0m\u001b[0m\n\u001b[1;32m     30\u001b[0m \u001b[0;34m\u001b[0m\u001b[0m\n",
      "\u001b[0;31mTypeError\u001b[0m: unsupported operand type(s) for @: 'list' and 'list'"
     ]
    }
   ],
   "source": [
    "\"\"\"\n",
    "products of all ints excluding the current index\n",
    "\"\"\"\n",
    "\n",
    "\n",
    "def products_excluding_index(v):\n",
    "\n",
    "\n",
    "    # O(n) greedy approach, keep list of all lhs subproducts\n",
    "    lhs_products = [None] * len(v)\n",
    "    lhs_product = 1\n",
    "    for i, x in enumerate(v):\n",
    "        # fill in value of lhs_products\n",
    "        lhs_products[i] = lhs_product\n",
    "        lhs_product *= x  # update lhs_product\n",
    "    \n",
    "    # also construct list of all rhs products, by iterating backwards\n",
    "    rhs_products = [None] * len(v)\n",
    "    rhs_product = 1\n",
    "    for i in range(len(v)):\n",
    "        rhs_products[len(v)-1-i] = rhs_product\n",
    "        rhs_product *= v[len(v)-i-1]\n",
    "\n",
    "\n",
    "    # compute final result\n",
    "    print(lhs_products)\n",
    "    print(rhs_products)\n",
    "    return lhs_products @ rhs_products\n",
    "    \n",
    "    \n",
    "v = [2, 4, 8, 16, 32, 64]\n",
    "products_excluding_index(v)"
   ]
  },
  {
   "cell_type": "code",
   "execution_count": 9,
   "metadata": {
    "scrolled": false
   },
   "outputs": [
    {
     "name": "stdout",
     "output_type": "stream",
     "text": [
      "[0, 1, 2, 3, 4, 5]\n"
     ]
    },
    {
     "data": {
      "text/plain": [
       "[5, 4, 3, 2, 1, 0]"
      ]
     },
     "execution_count": 9,
     "metadata": {},
     "output_type": "execute_result"
    }
   ],
   "source": [
    "v = [2, 4, 8, 16, 32, 64]\n",
    "\n",
    "print(list(range(len(v))))\n",
    "list(range(len(v)-1, -1, -1))"
   ]
  },
  {
   "cell_type": "code",
   "execution_count": 12,
   "metadata": {},
   "outputs": [
    {
     "name": "stdout",
     "output_type": "stream",
     "text": [
      "0 [2, 4, 5, 7, 99] [] [1, 2, 3, 4, 6] 0\n",
      "0 [2, 4, 5, 7, 99] [1] [1, 2, 3, 4, 6] 1\n",
      "0 [2, 4, 5, 7, 99] [1, 2] [1, 2, 3, 4, 6] 2\n",
      "1 [2, 4, 5, 7, 99] [1, 2, 2] [1, 2, 3, 4, 6] 2\n",
      "1 [2, 4, 5, 7, 99] [1, 2, 2, 3] [1, 2, 3, 4, 6] 3\n",
      "1 [2, 4, 5, 7, 99] [1, 2, 2, 3, 4] [1, 2, 3, 4, 6] 4\n",
      "2 [2, 4, 5, 7, 99] [1, 2, 2, 3, 4, 4] [1, 2, 3, 4, 6] 4\n",
      "3 [2, 4, 5, 7, 99] [1, 2, 2, 3, 4, 4, 5] [1, 2, 3, 4, 6] 4\n",
      "3 [2, 4, 5, 7, 99] [1, 2, 2, 3, 4, 4, 5, 6] [1, 2, 3, 4, 6] 5\n"
     ]
    },
    {
     "ename": "IndexError",
     "evalue": "list index out of range",
     "output_type": "error",
     "traceback": [
      "\u001b[0;31m---------------------------------------------------------------------------\u001b[0m",
      "\u001b[0;31mIndexError\u001b[0m                                Traceback (most recent call last)",
      "\u001b[0;32m<ipython-input-12-9db345229a49>\u001b[0m in \u001b[0;36m<module>\u001b[0;34m()\u001b[0m\n\u001b[1;32m     34\u001b[0m \u001b[0;31m# alices_list = [1, 5, 8, 12, 14, 19]\u001b[0m\u001b[0;34m\u001b[0m\u001b[0;34m\u001b[0m\u001b[0m\n\u001b[1;32m     35\u001b[0m \u001b[0;34m\u001b[0m\u001b[0m\n\u001b[0;32m---> 36\u001b[0;31m \u001b[0mprint\u001b[0m\u001b[0;34m(\u001b[0m\u001b[0mmerge_lists\u001b[0m\u001b[0;34m(\u001b[0m\u001b[0mmy_list\u001b[0m\u001b[0;34m,\u001b[0m \u001b[0malices_list\u001b[0m\u001b[0;34m)\u001b[0m\u001b[0;34m)\u001b[0m\u001b[0;34m\u001b[0m\u001b[0m\n\u001b[0m\u001b[1;32m     37\u001b[0m \u001b[0;31m# prints [1, 3, 4, 5, 6, 8, 10, 11, 12, 14, 15, 19]\u001b[0m\u001b[0;34m\u001b[0m\u001b[0;34m\u001b[0m\u001b[0m\n",
      "\u001b[0;32m<ipython-input-12-9db345229a49>\u001b[0m in \u001b[0;36mmerge_lists\u001b[0;34m(v, w)\u001b[0m\n\u001b[1;32m     12\u001b[0m     \u001b[0;32mwhile\u001b[0m \u001b[0mi\u001b[0m \u001b[0;34m<\u001b[0m \u001b[0mlen\u001b[0m\u001b[0;34m(\u001b[0m\u001b[0mv\u001b[0m\u001b[0;34m)\u001b[0m\u001b[0;34m:\u001b[0m\u001b[0;34m\u001b[0m\u001b[0m\n\u001b[1;32m     13\u001b[0m         \u001b[0mprint\u001b[0m\u001b[0;34m(\u001b[0m\u001b[0mi\u001b[0m\u001b[0;34m,\u001b[0m \u001b[0mv\u001b[0m\u001b[0;34m,\u001b[0m \u001b[0mmerged_list\u001b[0m\u001b[0;34m,\u001b[0m \u001b[0mw\u001b[0m\u001b[0;34m,\u001b[0m \u001b[0mj\u001b[0m\u001b[0;34m)\u001b[0m\u001b[0;34m\u001b[0m\u001b[0m\n\u001b[0;32m---> 14\u001b[0;31m         \u001b[0;32mif\u001b[0m \u001b[0mv\u001b[0m\u001b[0;34m[\u001b[0m\u001b[0mi\u001b[0m\u001b[0;34m]\u001b[0m \u001b[0;34m<\u001b[0m \u001b[0mw\u001b[0m\u001b[0;34m[\u001b[0m\u001b[0mj\u001b[0m\u001b[0;34m]\u001b[0m\u001b[0;34m:\u001b[0m\u001b[0;34m\u001b[0m\u001b[0m\n\u001b[0m\u001b[1;32m     15\u001b[0m             \u001b[0mmerged_list\u001b[0m\u001b[0;34m.\u001b[0m\u001b[0mappend\u001b[0m\u001b[0;34m(\u001b[0m\u001b[0mv\u001b[0m\u001b[0;34m[\u001b[0m\u001b[0mi\u001b[0m\u001b[0;34m]\u001b[0m\u001b[0;34m)\u001b[0m\u001b[0;34m\u001b[0m\u001b[0m\n\u001b[1;32m     16\u001b[0m             \u001b[0mi\u001b[0m \u001b[0;34m+=\u001b[0m \u001b[0;36m1\u001b[0m\u001b[0;34m\u001b[0m\u001b[0m\n",
      "\u001b[0;31mIndexError\u001b[0m: list index out of range"
     ]
    }
   ],
   "source": [
    "def merge_lists(v, w):\n",
    "    \"\"\"\n",
    "    merges two sorted lists, O(n) time, O(n) space\n",
    "    :param v: first sorted list\n",
    "    :param w: second sorted list\n",
    "    :return: merged list composed of v and w\n",
    "    \"\"\"\n",
    "    merged_list = []\n",
    "    # trail two pointers i and j along v and w, respectively\n",
    "    i, j = 0, 0\n",
    "    \n",
    "    while i < len(v):\n",
    "        print(i, v, merged_list, w, j)\n",
    "        if v[i] < w[j]:\n",
    "            merged_list.append(v[i])\n",
    "            i += 1\n",
    "        else:\n",
    "            merged_list.append(w[j])\n",
    "            j += 1\n",
    "#     while j < len(w):\n",
    "#         merged_list.append(w[j])\n",
    "#         j += 1\n",
    "    if j < len(w):\n",
    "        merged_list += w[j:]\n",
    "\n",
    "    return merged_list\n",
    "    \n",
    "    \n",
    "\n",
    "my_list = [2, 4, 5, 7, 99]\n",
    "alices_list = [1, 2, 3, 4, 6]\n",
    "\n",
    "# my_list     = [3, 4, 6, 10, 11, 15]\n",
    "# alices_list = [1, 5, 8, 12, 14, 19]\n",
    "\n",
    "print(merge_lists(my_list, alices_list))\n",
    "# prints [1, 3, 4, 5, 6, 8, 10, 11, 12, 14, 15, 19]"
   ]
  },
  {
   "cell_type": "code",
   "execution_count": 10,
   "metadata": {},
   "outputs": [
    {
     "name": "stdout",
     "output_type": "stream",
     "text": [
      "1 2 3\n"
     ]
    },
    {
     "data": {
      "text/plain": [
       "3"
      ]
     },
     "execution_count": 10,
     "metadata": {},
     "output_type": "execute_result"
    }
   ],
   "source": [
    "def find_duplicate(int_list):\n",
    "\n",
    "    n = len(int_list) - 1\n",
    "\n",
    "    # STEP 1: GET INSIDE A CYCLE\n",
    "    # start at position n+1 and walk n steps to\n",
    "    # find a position guaranteed to be in a cycle\n",
    "    position_in_cycle = n + 1\n",
    "    for _ in xrange(n):\n",
    "        position_in_cycle = int_list[position_in_cycle - 1]\n",
    "        # we subtract 1 from the current position to step ahead:\n",
    "        # the 2nd /position/ in a list is /index/ 1\n",
    "\n",
    "    # STEP 2: FIND THE LENGTH OF THE CYCLE\n",
    "    # find the length of the cycle by remembering a position in the cycle\n",
    "    # and counting the steps it takes to get back to that position\n",
    "    remembered_position_in_cycle = position_in_cycle\n",
    "    current_position_in_cycle    = int_list[position_in_cycle - 1] # 1 step ahead\n",
    "    cycle_step_count = 1\n",
    "\n",
    "    while current_position_in_cycle != remembered_position_in_cycle:\n",
    "        current_position_in_cycle = int_list[current_position_in_cycle - 1]\n",
    "        cycle_step_count += 1\n",
    "\n",
    "    # STEP 3: FIND THE FIRST NODE OF THE CYCLE\n",
    "    # start two pointers\n",
    "    #   (1) at position n+1\n",
    "    #   (2) ahead of position n+1 as many steps as the cycle's length\n",
    "    pointer_start = n + 1\n",
    "    pointer_ahead = n + 1\n",
    "    for _ in xrange(cycle_step_count):\n",
    "        pointer_ahead = int_list[pointer_ahead - 1]\n",
    "\n",
    "    # advance until the pointers are in the same position\n",
    "    # which is the first node in the cycle\n",
    "    while pointer_start != pointer_ahead:\n",
    "        pointer_start = int_list[pointer_start - 1]\n",
    "        pointer_ahead = int_list[pointer_ahead - 1]\n",
    "\n",
    "    # since there are multiple values pointing to the first node\n",
    "    # in the cycle, its position is a duplicate in our list\n",
    "    return pointer_start\n",
    "\n",
    "v = [2, 3, 1, 3]\n",
    "find_dup(v)"
   ]
  },
  {
   "cell_type": "code",
   "execution_count": 8,
   "metadata": {},
   "outputs": [
    {
     "name": "stdout",
     "output_type": "stream",
     "text": [
      "1 2 3\n"
     ]
    },
    {
     "data": {
      "text/plain": [
       "3"
      ]
     },
     "execution_count": 8,
     "metadata": {},
     "output_type": "execute_result"
    }
   ],
   "source": [
    "def find_dup(v):\n",
    "    \"\"\"\n",
    "    find duplicate entry in range [1, n]\n",
    "    O(nlgn) time, and O(1) space\n",
    "    divide subset in which to find needle in half at each iteration\n",
    "    uses pigeonhold principle to tell whether needle is in upper or lower half\n",
    "    repeat process iteratively on subset where # elements > # distinct possible\n",
    "    \"\"\"\n",
    "    low = 1  # lowest integer value in given range\n",
    "    high = len(v)-1  # since there's one dup in the list, the highest value is len(n)-1\n",
    "    \n",
    "    # loop until our range is a single element\n",
    "    while low < high:        \n",
    "        # compute the mid\n",
    "        mid = (low + high) // 2\n",
    "\n",
    "        print(low, mid, high)\n",
    "        \n",
    "        # count number of elements in the lower subset, which are in [1, n/2]\n",
    "        num_elements = 0\n",
    "        \n",
    "        # loop through lower range\n",
    "        for x in v:\n",
    "            if x >= low and x <= mid:\n",
    "                num_elements += 1\n",
    "        \n",
    "        # number of possible distinct values in range is high - low + 1\n",
    "        num_distinct_possible = mid - low + 1  # consider only lower range\n",
    "        \n",
    "        # determine whether to search lower range or higher range\n",
    "        if num_elements > num_distinct_possible:  # needle is in lower half\n",
    "            # repeat process iteratively on lower subset\n",
    "            high = mid  # update high\n",
    "        else:  # needle is in upper half\n",
    "            low = mid + 1\n",
    "            \n",
    "    # algorithm reduces range down to a single element\n",
    "    return low\n",
    "        \n",
    "    \n",
    "\n",
    "# v = [1, 2, 3, 4, 5, 6, 6, 7]\n",
    "v = [2, 3, 1, 3]\n",
    "find_dup(v)"
   ]
  },
  {
   "cell_type": "code",
   "execution_count": null,
   "metadata": {
    "collapsed": true
   },
   "outputs": [],
   "source": [
    "# v = [1, 2, 3, 4, 5, 6, 7, 8, 9, 10]\n",
    "\n",
    "# def shuffle(v):\n",
    "#     \"\"\"\n",
    "#     shuffle in place\n",
    "#     \"\"\"\n",
    "#     # loop through and at perform a random swap with the other elements\n",
    "#     for i in range(len(v)):\n",
    "        "
   ]
  },
  {
   "cell_type": "code",
   "execution_count": 88,
   "metadata": {},
   "outputs": [
    {
     "data": {
      "text/plain": [
       "4"
      ]
     },
     "execution_count": 88,
     "metadata": {},
     "output_type": "execute_result"
    }
   ],
   "source": [
    "v = [1, 2, 3, 4, 5, 5, 6, 7, 8]\n",
    "\n",
    "def appears_twice(v):\n",
    "    \"\"\"\n",
    "    returns the number that appears twice\n",
    "    \"\"\"\n",
    "    return int(((len(v)**2 + len(v)) / 2) - sum(v))\n",
    "\n",
    "appears_twice(v)"
   ]
  },
  {
   "cell_type": "code",
   "execution_count": 83,
   "metadata": {
    "scrolled": true
   },
   "outputs": [
    {
     "data": {
      "text/plain": [
       "'dirtypo'"
      ]
     },
     "execution_count": 83,
     "metadata": {},
     "output_type": "execute_result"
    }
   ],
   "source": [
    "# items = {\"arrow\", \"spear\", \"arrow\", \"arrow\", \"rock\", \"rock\"}\n",
    "\n",
    "# s = 'ab'\n",
    "# s[1::-1]\n",
    "\n",
    "s = 'dirtypop'\n",
    "# s.insert('sick', 3)\n",
    "s[:-1]"
   ]
  },
  {
   "cell_type": "code",
   "execution_count": 64,
   "metadata": {
    "collapsed": true
   },
   "outputs": [],
   "source": [
    "def get_permutations(string):\n",
    "\n",
    "    # base case\n",
    "    if len(string) <= 1:\n",
    "        return set([string])\n",
    "\n",
    "    all_chars_except_last = string[:-1]\n",
    "    last_char = string[-1]\n",
    "\n",
    "    # recursive call: get all possible permutations for all chars except last\n",
    "    permutations_of_all_chars_except_last = get_permutations(all_chars_except_last)\n",
    "\n",
    "    # put the last char in all possible positions for each of the above permutations\n",
    "    permutations = set()\n",
    "    for permutation_of_all_chars_except_last in permutations_of_all_chars_except_last:\n",
    "        for position in range(len(all_chars_except_last) + 1):\n",
    "            permutation = permutation_of_all_chars_except_last[:position] + last_char + permutation_of_all_chars_except_last[position:]\n",
    "            permutations.add(permutation)\n",
    "\n",
    "    return permutations"
   ]
  },
  {
   "cell_type": "code",
   "execution_count": 67,
   "metadata": {
    "scrolled": false
   },
   "outputs": [
    {
     "data": {
      "text/plain": [
       "{'act', 'atc', 'cat', 'cta', 'tac', 'tca'}"
      ]
     },
     "execution_count": 67,
     "metadata": {},
     "output_type": "execute_result"
    }
   ],
   "source": [
    "# write a recursive function, where given a string, returns the set of all permutations of the string\n",
    "\n",
    "def get_permutations(string):\n",
    "    \"\"\"\n",
    "    start with the base case of 2 characters and recursively call function for all chars except last\n",
    "    then loop through each letter of each permutation to insert the last letter at all possible positio\n",
    "    \"\"\"\n",
    "    if len(string) < 2:\n",
    "        return set([string])\n",
    "#     elif len(string) == 2:\n",
    "# #         return string[:2]\n",
    "#         return {string[:2], string[1::-1]}\n",
    "#     else:\n",
    "        # all chars except last\n",
    "    all_chars_except_last = string[:-1]\n",
    "#         return permutations(string[:-1])\n",
    "#         permutations_of_all_chars_except_last = permutations(string[:-1])\n",
    "    permutations_of_all_chars_except_last = get_permutations(all_chars_except_last)\n",
    "    \n",
    "    # store permutations in set\n",
    "    permutations = set()\n",
    "    \n",
    "#     for i, x in permutations_of_all_chars_except_last:\n",
    "    for x in permutations_of_all_chars_except_last:\n",
    "        # loop through each letter of each word\n",
    "        for j in range(len(x) + 1):\n",
    "            # insert last letter to jth position\n",
    "            permutation = x[:j] + string[-1] + x[j:]\n",
    "            permutations.add(permutation)\n",
    "    return permutations\n",
    "    \n",
    "#         return {string[0] + str(permutations(string[1:]))}\n",
    "#         for i, x in enumerate(permutations(string)):\n",
    "#             print(x[j].insert(string[-1]))\n",
    "    \n",
    "s = \"cat\"\n",
    "get_permutations(s)"
   ]
  },
  {
   "cell_type": "code",
   "execution_count": 81,
   "metadata": {},
   "outputs": [
    {
     "data": {
      "text/plain": [
       "(12, -1)"
      ]
     },
     "execution_count": 81,
     "metadata": {},
     "output_type": "execute_result"
    }
   ],
   "source": [
    "# max profit given list of stock prices\n",
    "\n",
    "class StockPrices:\n",
    "    \"\"\"\n",
    "    contains a list of stock prices and a member function to compute max profit\n",
    "    \"\"\"\n",
    "    def __init__(self, prices):\n",
    "        self.prices = prices\n",
    "        \n",
    "    def max_profit(self):\n",
    "        \"\"\"\n",
    "        given the starting price at each day, determine the max profit\n",
    "        \"\"\"\n",
    "        # keep track of the highest profit possible, and min so far\n",
    "        lowest = min(self.prices[:2])\n",
    "        max_profit = self.prices[1] - self.prices[0]\n",
    "        \n",
    "        # loop through the list of prices\n",
    "        for i in range(2, len(self.prices)):\n",
    "        \n",
    "            # max profit so far will be either the old max, or the new max\n",
    "            # new max gets calculated using the new info gained, so it's current - min so far\n",
    "            lowest = min(lowest, self.prices[i])  # update min\n",
    "            \n",
    "            new_max = self.prices[i] - lowest\n",
    "            max_profit = max(max_profit, new_max)\n",
    "        \n",
    "        return max_profit\n",
    "    \n",
    "\n",
    "BRK_A = StockPrices([99, 6, 8, 3, 9, 1, 3, 3, 1, 13, 13])\n",
    "AAPL = StockPrices([9, 8, 7, 3, 2, 1])  # monotonic decrease\n",
    "\n",
    "BRK_A.max_profit(), AAPL.max_profit()"
   ]
  },
  {
   "cell_type": "code",
   "execution_count": 5,
   "metadata": {},
   "outputs": [],
   "source": [
    "# There are two potential side-effects:\n",
    "\n",
    "#     Any references to the input node have now effectively been reassigned to its next node. In our example, we \"deleted\" the node assigned to the variable b, but in actuality we just gave it a new value (2) and a new next! If we had another pointer to b somewhere else in our code and we were assuming it still had its old value (8), that could cause bugs.\n",
    "#     If there are pointers to the input node's original next node, those pointers now point to a \"dangling\" node (a node that's no longer reachable by walking down our list). In our example above, c is now dangling. If we changed c, we'd never encounter that new value by walking down our list from the head to the tail.\n",
    "\n",
    "\n",
    "\n",
    "def delete_node(node_to_delete):\n",
    "    # update the node's value\n",
    "\n",
    "    # take the value and next from the input node's next node, and copy them to the current node\n",
    "    if node_to_delete.next:\n",
    "        node_to_delete.value = node_to_delete.next.value\n",
    "        #             if node_to_delete.next.next:\n",
    "        node_to_delete.next = node_to_delete.next.next\n",
    "    # current = p\n",
    "    #         while current.next:\n",
    "    #             current.value = current.next.value\n",
    "    #             if current.next.next:\n",
    "    #                 current.next = current.next.next\n",
    "    #             current = current.next\n",
    "    else:\n",
    "        raise Exception(\"can't delete the last node with this method\")\n",
    "\n",
    "\n",
    "class LinkedListNode:\n",
    "    def __init__(self, value):\n",
    "        self.value = value\n",
    "        self.next = None\n",
    "\n",
    "    def insert(self, value):\n",
    "        self.next = LinkedListNode(value)\n",
    "\n",
    "\n",
    "# a = LinkedListNode(\"A\")\n",
    "# b = LinkedListNode(\"B\")\n",
    "# c = LinkedListNOde(\"C\")\n",
    "\n",
    "# a.next = b\n",
    "# b.next = c\n",
    "\n",
    "# delete_node(b)\n",
    "\n",
    "a = LinkedListNode(3)\n",
    "b = LinkedListNode(8)\n",
    "c = LinkedListNode(2)\n",
    "\n",
    "a.next = b\n",
    "b.next = c\n",
    "\n",
    "delete_node(b)"
   ]
  },
  {
   "cell_type": "code",
   "execution_count": 7,
   "metadata": {
    "collapsed": true
   },
   "outputs": [],
   "source": [
    "# LargestStack\n",
    "\n",
    "class LargestStack:\n",
    "    \"\"\"\n",
    "    LargestStack class to return largest element in stack.\n",
    "     - stack contains only integers\n",
    "    \"\"\"\n",
    "    def __init__(self):\n",
    "        # initialize an empty list\n",
    "        self.items = []\n",
    "#         self.max = float(-'inf')\n",
    "        self.max_keeper = []\n",
    "        \n",
    "    def push(self, value):\n",
    "        self.items.append(value)\n",
    "        # update max if value is greater\n",
    "        if value >= max_keeper[-1] or not max_keeper[]:\n",
    "            self.max_keeper.append(value)\n",
    "#             self.max = value\n",
    "        \n",
    "    def pop(self):\n",
    "        \"\"\"\n",
    "        removes last item in the stack\n",
    "        \"\"\"\n",
    "        # if stack is empty, return None\n",
    "        if not self.items:\n",
    "            return None\n",
    "        \n",
    "#         if self.items[-1] == self.max:\n",
    "#             # update max with the new max\n",
    "#             last_item = self.items.pop()\n",
    "#             self.max = self.max_keeper.pop()\n",
    "#             self.max = max(self.items)\n",
    "\n",
    "        # if last element in items is equal to last element in max_keeper, \n",
    "        # then they were appended into both lists together, and we need to\n",
    "        # remove the last element from the max_keeper stack\n",
    "        \n",
    "#         return self.max_keeper[-1]\n",
    "        \n",
    "        if self.items[-1] == self.max_keeper[-1]:\n",
    "            self.max_keeper.pop()\n",
    "    \n",
    "        return self.items.pop()  # uses built in pop for lists\n",
    "    \n",
    "    def peek(self):\n",
    "        \"\"\"\n",
    "        returns the value of the last element in the stack\n",
    "        \"\"\"\n",
    "        if not self.items:\n",
    "            return None\n",
    "        return self.items[-1]\n",
    "    \n",
    "    def get_max(self):\n",
    "        \"\"\"\n",
    "        returns largest element in the stack\n",
    "        \"\"\"\n",
    "#         return max(self.items)\n",
    "#         max = self.items[0]\n",
    "#         for x in self.items:  # lazy evaluation\n",
    "#             if x > max:\n",
    "#                 max = x\n",
    "#         return max\n",
    "        return self.max_keeepr[-1]\n",
    "\n",
    "\n",
    "#   class MaxStack:\n",
    "\n",
    "#     def __init__(self):\n",
    "#         self.stack      = Stack()\n",
    "#         self.maxs_stack = Stack()\n",
    "\n",
    "#     # Add a new item to the top of our stack. If the item is greater\n",
    "#     # than or equal to the last item in maxs_stack, it's\n",
    "#     # the new max! So we'll add it to maxs_stack.\n",
    "#     def push(self, item):\n",
    "#         self.stack.push(item)\n",
    "#         if self.maxs_stack.peek() is None or item >= self.maxs_stack.peek():\n",
    "#             self.maxs_stack.push(item)\n",
    "\n",
    "#     # Remove and return the top item from our stack. If it equals\n",
    "#     # the top item in maxs_stack, they must have been pushed in together.\n",
    "#     # So we'll pop it out of maxs_stack too.\n",
    "#     def pop(self):\n",
    "#         item = self.stack.pop()\n",
    "#         if item == self.maxs_stack.peek():\n",
    "#             self.maxs_stack.pop()\n",
    "#         return item\n",
    "\n",
    "#     # The last item in maxs_stack is the max item in our stack.\n",
    "#     def get_max(self):\n",
    "#         return self.maxs_stack.peek()\n"
   ]
  },
  {
   "cell_type": "code",
   "execution_count": 50,
   "metadata": {},
   "outputs": [
    {
     "name": "stdout",
     "output_type": "stream",
     "text": [
      "a\n"
     ]
    },
    {
     "data": {
      "text/plain": [
       "2"
      ]
     },
     "execution_count": 50,
     "metadata": {},
     "output_type": "execute_result"
    }
   ],
   "source": [
    "words = [\n",
    "    'ptolemaic',\n",
    "    'retrograde',\n",
    "    'supplant',\n",
    "    'undulate',\n",
    "    'xenoepist',\n",
    "    'asymptote', # <-- rotates here!\n",
    "    'babka',\n",
    "    'banoffee',\n",
    "    'engender',\n",
    "    'karpatka',\n",
    "    'othellolagkage',\n",
    "]\n",
    "\n",
    "def find_pivot(words):\n",
    "    start = 0\n",
    "    end = len(words) - 1\n",
    "    \n",
    "    while start <= end:\n",
    "        mid = (start+end)//2\n",
    "        \n",
    "        # check if start, end, or mid is the pivot\n",
    "        if words[mid] < words[mid-1]:  #  element is the pivot if it's less than previous\n",
    "            print(words[mid])\n",
    "            return mid\n",
    "        elif words[mid+1] < words[mid]:\n",
    "            print(words[mid+1])\n",
    "            return mid+1\n",
    "        elif words[mid-1] < words[mid-2]:\n",
    "            print(words[mid-1])            \n",
    "            return mid-1\n",
    "        elif words[mid] > words[start]:  # look in rhs\n",
    "            start = mid + 1  # update start\n",
    "        elif words[mid] < words[start]:  # look in lhs\n",
    "            end = mid - 1\n",
    "            \n",
    "    return False\n",
    "        \n",
    "        \n",
    "        \n",
    "#         elif words[mid] > end  # look in rhs\n",
    "#             # update low\n",
    "#             start = mid + 1\n",
    "#         elif words[mid ]\n",
    "        \n",
    "    \n",
    "    \n",
    "    \n",
    "words = [ 'k','v','a','b','c','d','e','g','i' ]\n",
    "find_pivot(words)"
   ]
  },
  {
   "cell_type": "code",
   "execution_count": 27,
   "metadata": {},
   "outputs": [
    {
     "data": {
      "text/plain": [
       "False"
      ]
     },
     "execution_count": 27,
     "metadata": {},
     "output_type": "execute_result"
    }
   ],
   "source": [
    "def binary_search(n, v):\n",
    "    start = 0\n",
    "    end = len(v)-1\n",
    "    \n",
    "    while start <= end:\n",
    "        mid = (end + start)//2\n",
    "        \n",
    "        if n == v[mid]:\n",
    "            return mid\n",
    "        elif n < v[mid]:  # lhs\n",
    "            end = mid - 1\n",
    "        elif n > v[mid]:  # rhs\n",
    "            start = mid + 1\n",
    "    return False\n",
    "\n",
    "\n",
    "# v = [-1, 0, 2, 5, 10, 15]\n",
    "# for x in v:\n",
    "#     print(binary_search(x, v))\n",
    "    \n",
    "    \n",
    "binary_search(1, v)"
   ]
  },
  {
   "cell_type": "code",
   "execution_count": 92,
   "metadata": {},
   "outputs": [
    {
     "name": "stdout",
     "output_type": "stream",
     "text": [
      "3\n"
     ]
    }
   ],
   "source": [
    "def fib(n):\n",
    "    \"\"\"\n",
    "    fibonacci with memoization\n",
    "    \"\"\"\n",
    "    \n",
    "    one_before = 1\n",
    "    two_before = 0\n",
    "    \n",
    "    if n < 2:\n",
    "        return n\n",
    "    else:\n",
    "        for i in range(2, n+1):\n",
    "            current = one_before + two_before\n",
    "            two_before = one_before\n",
    "            one_before = current\n",
    "    return current\n",
    "\n",
    "\n",
    "# for i in range(6+1):\n",
    "#     print(fib(i))\n",
    "print(fib(4))"
   ]
  },
  {
   "cell_type": "code",
   "execution_count": 8,
   "metadata": {
    "scrolled": false
   },
   "outputs": [
    {
     "data": {
      "text/plain": [
       "['After',\n",
       " 'beating',\n",
       " 'the',\n",
       " 'eggs',\n",
       " 'Dana',\n",
       " 'read',\n",
       " 'the',\n",
       " 'next',\n",
       " 'step',\n",
       " 'Add',\n",
       " 'milk',\n",
       " 'and',\n",
       " 'eggs',\n",
       " 'then',\n",
       " 'add',\n",
       " 'flour',\n",
       " 'and',\n",
       " 'sugar']"
      ]
     },
     "execution_count": 8,
     "metadata": {},
     "output_type": "execute_result"
    }
   ],
   "source": [
    "import string\n",
    "\n",
    "def split_sentence(sentence):\n",
    "    # append each word to a list\n",
    "    \n",
    "    words = []\n",
    "    current = \"\"\n",
    "    for char in sentence+\" \":\n",
    "        if char in string.ascii_letters:\n",
    "            current += char\n",
    "        elif char == \" \":  # space\n",
    "            words.append(current)\n",
    "            current = \"\"  # reset current word\n",
    "            \n",
    "    return words\n",
    "\n",
    "\n",
    "s = 'After beating the eggs, Dana read the next step: Add milk and eggs, then add flour and sugar.'\n",
    "split_sentence(s)"
   ]
  },
  {
   "cell_type": "code",
   "execution_count": 6,
   "metadata": {},
   "outputs": [
    {
     "data": {
      "text/plain": [
       "[37, 41, 53, 65, 89, 91]"
      ]
     },
     "execution_count": 6,
     "metadata": {},
     "output_type": "execute_result"
    }
   ],
   "source": [
    "\"\"\"\n",
    "take a list of unsorted_scores and the highest_possible_score in the game\n",
    "and return a sorted list of score in less than O(nlgn) time.\n",
    "\"\"\"\n",
    "\n",
    "# from collections import Counter\n",
    "\n",
    "def sort_scores(unsorted_scores, HIGHEST_POSSIBLE_SCORE):\n",
    "    \"\"\"\n",
    "    O(n) runtime, counting sort\n",
    "    \"\"\"\n",
    "    \n",
    "#     counts = Counter(unsorted_scores)\n",
    "    # create counter\n",
    "    counts = [0] * (HIGHEST_POSSIBLE_SCORE + 1)\n",
    "    \n",
    "    for score in unsorted_scores:\n",
    "        counts[score] += 1\n",
    "        \n",
    "    # append in order to sorted_list\n",
    "    sorted_list = []\n",
    "    \n",
    "    for score, count in enumerate(counts):\n",
    "        \n",
    "        # for the number of times the item occurs\n",
    "        for time in range(count):\n",
    "            sorted_list.append(score)\n",
    "    \n",
    "    return sorted_list\n",
    "    \n",
    "\n",
    "\n",
    "unsorted_scores = [37, 89, 41, 65, 91, 53]\n",
    "HIGHEST_POSSIBLE_SCORE = 100\n",
    "\n",
    "sort_scores(unsorted_scores, HIGHEST_POSSIBLE_SCORE)\n",
    "# returns [37, 41, 53, 65, 89, 91]"
   ]
  },
  {
   "cell_type": "code",
   "execution_count": 6,
   "metadata": {
    "collapsed": true
   },
   "outputs": [],
   "source": [
    "class BinaryTreeNode:\n",
    "    \n",
    "    def __init__(self, value):\n",
    "        self.value = value\n",
    "        self.left  = None\n",
    "        self.right = None\n",
    "\n",
    "    def insert_left(self, value):\n",
    "        self.left = BinaryTreeNode(value)\n",
    "        return self.left\n",
    "\n",
    "    def insert_right(self, value):\n",
    "        self.right = BinaryTreeNode(value)\n",
    "        return self.right\n",
    "\n",
    "# check whether a binary tree is a valid binary search tree\n",
    "\n",
    "def bst_checker(root):\n",
    "    \"\"\"\n",
    "    # do a depth first walk through the tree, testing for validity as we go\n",
    "    given node is valid if it is greater than all ancestral nodes it is the right subtree of\n",
    "    and less than all ancestral nodes it's in the left subtree of\n",
    "    \n",
    "    instead of checking all ancestors, check only its lower_bound and upper_bound\n",
    "    \"\"\"\n",
    "    \n",
    "    # start at root with arbitrary lower and upper bound\n",
    "    node_and_bounds_stack = [(root, -float('inf'), float('inf'))]\n",
    "    \n",
    "    # depth first traversal\n",
    "    while len(node_and_bounds_stack):\n",
    "        \n",
    "        # pop node off stack\n",
    "        current_node, lower_bound, upper_bound = node_and_bounds_stack.pop()\n",
    "        \n",
    "        # if node.value makes binary search tree invalid, return False\n",
    "        if (current_node.value < lower_bound) or (curren_node.value > upper_bound):\n",
    "            return False\n",
    "        \n",
    "        # add current_node's children to stack\n",
    "        if current_node.left:\n",
    "            # left child must be less than current node\n",
    "            node_and_bounds_stack.append(current_node.left, lower_bound, current_node.value)\n",
    "            \n",
    "        if current_node.right:\n",
    "            # right child must be greater than current node\n",
    "            node_and_bounds_stack.append(current_node.right, current_node.value, upper_bound)\n",
    "            \n",
    "    # return True once all the nodes have been verified\n",
    "    return True\n",
    "\n",
    "\n",
    "\n",
    "\n",
    "def bst_checker_recursive(root, lower_bound=-float('inf'), upper_bound=float('inf')):\n",
    "    \"\"\"\n",
    "    prone to stack overflow\n",
    "    \"\"\"\n",
    "    # if there are no invalid nodes, return True\n",
    "    if not root:\n",
    "        return True\n",
    "    \n",
    "    # if value < lower_bound or value > upper_bound, return False\n",
    "    if (root.value < lower_bound) or (root.value > upper_bound):\n",
    "        return False\n",
    "    \n",
    "    # append children to call stack, where current_node.value is upper bound of left child and lower bound of right child\n",
    "    return bst_checker_recursive(root.left, lower_bound, root.value)\n",
    "\n",
    "\n",
    "#     return bst_checker_recursive(root.left, lower_bound, root.value) \\\n",
    "#         and bst_checker_recursive(root.right, root.value, upper_bound)"
   ]
  },
  {
   "cell_type": "code",
   "execution_count": 52,
   "metadata": {},
   "outputs": [
    {
     "data": {
      "text/plain": [
       "[(3, 4)]"
      ]
     },
     "execution_count": 52,
     "metadata": {},
     "output_type": "execute_result"
    }
   ],
   "source": [
    "from collections import Counter\n",
    "\n",
    "class TempTracker:\n",
    "    \n",
    "    def __init__(self, temperatures):\n",
    "        self.temperatures = temperatures\n",
    "        \n",
    "    def insert(self, n):\n",
    "        \"\"\"\n",
    "        inserts n into list of temperatures\n",
    "        \"\"\"\n",
    "        self.temperatures.append(n)\n",
    "    \n",
    "    def min(self):\n",
    "        return min(self.temperatures)\n",
    "    \n",
    "    def max(self):\n",
    "        return max(self.temperatures)\n",
    "    \n",
    "    def mean(self):\n",
    "        return mean(self.temperatures)\n",
    "    \n",
    "    def mode(self):\n",
    "        return Counter(self.temperatures).most_common(1)\n",
    "    \n",
    "    \n",
    "TempTracker([1, 2, 3, 3, 3, 3, 4, 5]).mode()"
   ]
  },
  {
   "cell_type": "code",
   "execution_count": 45,
   "metadata": {},
   "outputs": [
    {
     "data": {
      "text/plain": [
       "True"
      ]
     },
     "execution_count": 45,
     "metadata": {},
     "output_type": "execute_result"
    }
   ],
   "source": [
    "from collections import Counter\n",
    "\n",
    "def is_anagram(s1, s2):\n",
    "    return Counter(s1) == Counter(s2)\n",
    "    \n",
    "s1 = \"abcd\"\n",
    "s2 = \"dabc\"\n",
    "\n",
    "is_anagram(s1, s2)"
   ]
  },
  {
   "cell_type": "code",
   "execution_count": 34,
   "metadata": {},
   "outputs": [
    {
     "data": {
      "text/plain": [
       "3"
      ]
     },
     "execution_count": 34,
     "metadata": {},
     "output_type": "execute_result"
    }
   ],
   "source": [
    "# bottom-up algorithm to build up a table ways_of_doing_n_cents,\n",
    "# where ways_of_doing_n[k] is how many ways we can get to k cents\n",
    "# using our denominations\n",
    "\n",
    "\n",
    "def change_possibilities_bottom_up(amount, denominations):\n",
    "    \"\"\"\n",
    "    bottom-up approach with memoization\n",
    "    \"\"\"\n",
    "    \n",
    "    ways_to_make_n = [1] + [0] * (amount)  # first element is 1 because there's 1 way to make 0\n",
    "    \n",
    "    # loop through each coin and update\n",
    "    for coin in denominations:\n",
    "        for higher_amount in range(coin, amount+1):\n",
    "            higher_amount_remainder = higher_amount - coin  # find remainder\n",
    "            \n",
    "            ways_to_make_n[higher_amount] += ways_to_make_n[higher_amount_remainder]\n",
    "            \n",
    "            \n",
    "    return ways_to_make_n[amount]\n",
    "    \n",
    "    \n",
    "    \n",
    "    \n",
    "    \n",
    "# amount = 4\n",
    "# denominations = [1, 2, 3]\n",
    "\n",
    "amount=5\n",
    "denominations=[1,3,5]\n",
    "\n",
    "change_possibilities_bottom_up(amount, denominations)"
   ]
  },
  {
   "cell_type": "code",
   "execution_count": 27,
   "metadata": {},
   "outputs": [
    {
     "data": {
      "text/plain": [
       "120"
      ]
     },
     "execution_count": 27,
     "metadata": {},
     "output_type": "execute_result"
    }
   ],
   "source": [
    "# top-down\n",
    "# def product_1_n(n):\n",
    "#     return n * product_1_n(n-1) if n > 1 else 1\n",
    "\n",
    "# product_1_n(5)\n",
    "\n",
    "\n",
    "# bottom-up\n",
    "def product_1_n(n):\n",
    "    result = 1\n",
    "    for i in range(1, n+1):\n",
    "        result *= i\n",
    "    return result\n",
    "\n",
    "\n",
    "product_1_n(5)\n"
   ]
  },
  {
   "cell_type": "code",
   "execution_count": 21,
   "metadata": {},
   "outputs": [
    {
     "name": "stdout",
     "output_type": "stream",
     "text": [
      "checking ways to make 4 with [1, 2, 3]\n",
      "checking ways to make 4 with [2, 3]\n",
      "checking ways to make 4 with [3]\n",
      "checking ways to make 2 with [3]\n",
      "checking ways to make 3 with [2, 3]\n",
      "checking ways to make 3 with [3]\n",
      "checking ways to make 1 with [3]\n",
      "checking ways to make 2 with [2, 3]\n",
      "grabbing memo[(2, 2)]\n",
      "checking ways to make 1 with [2, 3]\n",
      "grabbing memo[(1, 2)]\n"
     ]
    },
    {
     "data": {
      "text/plain": [
       "4"
      ]
     },
     "execution_count": 21,
     "metadata": {},
     "output_type": "execute_result"
    }
   ],
   "source": [
    "# memoization\n",
    "\n",
    "class Change:\n",
    "    \"\"\"\n",
    "    \"\"\"\n",
    "    \n",
    "    def __init__(self):\n",
    "        self.memo = {}\n",
    "        \n",
    "    def change_possibilities_top_down(self, amount_left, denominations, current_index=0):\n",
    "        \n",
    "        # check our memo and short circuit if we've already solved this one\n",
    "        memo_key = str((amount_left, current_index))\n",
    "        if memo_key in self.memo:\n",
    "            print (\"grabbing memo[%s]\" % memo_key)\n",
    "            return self.memo[memo_key]\n",
    "        \n",
    "        # base cases\n",
    "        # we hit the amount spon on. yes!\n",
    "        if amount_left == 0: return 1\n",
    "        \n",
    "        # overshot the amount left (used too many coins)\n",
    "        if amount_left < 0: return 0\n",
    "        \n",
    "        # we're out of denominations\n",
    "        if current_index == len(denominations): return 0\n",
    "        \n",
    "        print (\"checking ways to make %i with %s\" % (amount_left, denominations[current_index:]))\n",
    "        \n",
    "        # choose a current coin\n",
    "        current_coin = denominations[current_index]\n",
    "        \n",
    "        # see how many possibilities we can get\n",
    "        # for each number of times to use current_coin\n",
    "        num_possibilities = 0\n",
    "        while amount_left >= 0:\n",
    "            num_possibilities += self.change_possibilities_top_down(amount_left, denominations, current_index + 1)\n",
    "            amount_left -= current_coin\n",
    "            \n",
    "        # save the answer in our memo so we don't compute it again\n",
    "        self.memo[memo_key] = num_possibilities\n",
    "        \n",
    "        return num_possibilities\n",
    "            \n",
    "        \n",
    "        \n",
    "        \n",
    "        \n",
    "        \n",
    "amount = 4\n",
    "denominations = [1, 2, 3]\n",
    "\n",
    "Change().change_possibilities_top_down(amount, denominations)"
   ]
  },
  {
   "cell_type": "code",
   "execution_count": 14,
   "metadata": {
    "scrolled": true
   },
   "outputs": [
    {
     "name": "stdout",
     "output_type": "stream",
     "text": [
      "computing fib(8)\n",
      "computing fib(7)\n",
      "computing fib(6)\n",
      "computing fib(5)\n",
      "computing fib(4)\n",
      "computing fib(3)\n",
      "computing fib(2)\n",
      "grabbing memo[2]\n",
      "grabbing memo[3]\n",
      "grabbing memo[4]\n",
      "grabbing memo[5]\n",
      "grabbing memo[6]\n"
     ]
    }
   ],
   "source": [
    "class Fibber:\n",
    "    \n",
    "    def __init__(self):\n",
    "        self.memo = {}\n",
    "        \n",
    "    def fib(self, n):\n",
    "        \n",
    "        # edge case\n",
    "        if n < 0:\n",
    "            raise Exception(\"Index was negative.  No such thing as a negtaive index in a series.\")\n",
    "            \n",
    "        # base cases\n",
    "        elif n in [0, 1]:\n",
    "            return n\n",
    "        \n",
    "        # see if we've already calculated this\n",
    "        if n in self.memo:\n",
    "            print(\"grabbing memo[%i]\" %n)\n",
    "            return self.memo[n]\n",
    "        \n",
    "        print(\"computing fib(%i)\" %n)\n",
    "        result = self.fib(n-1) + self.fib(n-2)\n",
    "        \n",
    "        # memoize\n",
    "        self.memo[n] = result\n",
    "        \n",
    "        return result\n",
    "    \n",
    "    \n",
    "    Fibber().fib(8)"
   ]
  },
  {
   "cell_type": "code",
   "execution_count": 12,
   "metadata": {
    "scrolled": true
   },
   "outputs": [
    {
     "name": "stdout",
     "output_type": "stream",
     "text": [
      "checking ways to make 4 with [1, 2, 3]\n",
      "checking ways to make 4 with [2, 3]\n",
      "checking ways to make 4 with [3]\n",
      "checking ways to make 2 with [3]\n",
      "checking ways to make 3 with [2, 3]\n",
      "checking ways to make 3 with [3]\n",
      "checking ways to make 1 with [3]\n",
      "checking ways to make 2 with [2, 3]\n",
      "checking ways to make 2 with [3]\n",
      "checking ways to make 1 with [2, 3]\n",
      "checking ways to make 1 with [3]\n"
     ]
    },
    {
     "data": {
      "text/plain": [
       "4"
      ]
     },
     "execution_count": 12,
     "metadata": {},
     "output_type": "execute_result"
    }
   ],
   "source": [
    "amount = 4\n",
    "denominations = [1, 2, 3]\n",
    "\n",
    "def change_possibilities_top_down(amount_left, denominations, current_index = 0):\n",
    "    \"\"\"\n",
    "    recursive function\n",
    "    \"\"\"\n",
    "    \n",
    "    # base cases\n",
    "    # we hit the amount spot on\n",
    "    if amount_left == 0: return 1\n",
    "    \n",
    "    # we overshot the amount left (used too many coins)\n",
    "    if amount_left < 0: return 0\n",
    "    \n",
    "    # we're out of denominations\n",
    "    if current_index == len(denominations): return 0\n",
    "    \n",
    "    print(\"checking ways to make %i with %s\" %(amount_left, denominations[current_index:]))\n",
    "    \n",
    "    # choose a current coin\n",
    "    current_coin = denominations[current_index]\n",
    "    \n",
    "    # see how many possibilities we can get\n",
    "    # for each number of times to use current_coin\n",
    "    num_possibilities = 0\n",
    "    while amount_left >= 0:\n",
    "        num_possibilities += change_possibilities_top_down(amount_left, denominations, current_index+1)\n",
    "        amount_left -= current_coin\n",
    "        \n",
    "    return num_possibilities\n",
    "\n",
    "\n",
    "change_possibilities_top_down(4, denominations)"
   ]
  },
  {
   "cell_type": "code",
   "execution_count": 6,
   "metadata": {
    "scrolled": true
   },
   "outputs": [
    {
     "data": {
      "text/plain": [
       "[(0, 1), (3, 5), (4, 8), (9, 10), (10, 12)]"
      ]
     },
     "execution_count": 6,
     "metadata": {},
     "output_type": "execute_result"
    }
   ],
   "source": [
    "v = [(0, 1), (3, 5), (4, 8), (10, 12), (9, 10)]\n",
    "\n",
    "sorted(v)  # sorts by first element\n",
    "# v.sort(key=lambda tup: tup[1])  # sorts by second element\n",
    "# v"
   ]
  },
  {
   "cell_type": "code",
   "execution_count": 100,
   "metadata": {},
   "outputs": [
    {
     "data": {
      "text/plain": [
       "[(12, 12), (0, 1), (3, 5), (4, 8)]"
      ]
     },
     "execution_count": 100,
     "metadata": {},
     "output_type": "execute_result"
    }
   ],
   "source": [
    "def merge_ranges(meeting_time_ranges):\n",
    "    \"\"\"\n",
    "    takes a list of meeting time ranges and returns a list of condensed ranges\n",
    "    e.g. given   [(0, 1), (3, 5), (4, 8), (10, 12), (9, 10)]\n",
    "    return   [(0, 1), (3, 8), (9, 12)]\n",
    "    \"\"\"\n",
    "    \n",
    "#     do not assume the meetings are in order\n",
    "    # sort in place by start time\n",
    "    meeting_time_ranges.sort(key=lambda tup: tup[0])\n",
    "\n",
    "    condensed_ranges = []\n",
    "    \n",
    "    for i, time in enumerate(meeting_time_ranges[1:]):\n",
    "        previous = meeting_time_ranges[i-1]\n",
    "        \n",
    "#         if meeting_time_ranges[i+1][0] > time[1]:\n",
    "        # if current start time is after previous end time\n",
    "        if time[0] > previous[1]:\n",
    "#             condensed_ranges.append(\"hello\")\n",
    "            condensed_ranges.append(previous)\n",
    "#             continue\n",
    "#             pass\n",
    "        else:  # if next start time is less than or equal to current time's end time\n",
    "            # if there were only 2 tuples I'd do:\n",
    "            # first meeting ends before second\n",
    "            # \n",
    "            if time[1] > previous[1]:  # previous ends before current\n",
    "                condensed_ranges.append((previous[0], time[1]))\n",
    "                \n",
    "#                 meeting_time_ranges[i] = (time[0], meeting_time_ranges[i+1][1])\n",
    "#                 meeting_time_ranges.pop(i+1)\n",
    "#                 meeting_time_ranges.append((0,0))\n",
    "                \n",
    "            else:  # previous ends after current\n",
    "                condensed_ranges.append((previous[1], previous[1]))\n",
    "#                 meeting_time_ranges[i] = (time[0], time[1])\n",
    "    \n",
    "    return condensed_ranges\n",
    "    \n",
    "\n",
    "merge_ranges([(0, 1), (3, 5), (4, 8), (10, 12), (9, 10)])"
   ]
  },
  {
   "cell_type": "code",
   "execution_count": 97,
   "metadata": {},
   "outputs": [
    {
     "data": {
      "text/plain": [
       "300"
      ]
     },
     "execution_count": 97,
     "metadata": {},
     "output_type": "execute_result"
    }
   ],
   "source": [
    "from operator import mul\n",
    "from functools import reduce\n",
    "\n",
    "from itertools import islice\n",
    "\n",
    "# Given a list_of_ints, find the highest_product you can get from three of the integers. \n",
    "# The input list_of_ints will always have at least three integers. \n",
    "# Breakdown\n",
    "# To brute force ↴ an answer we could iterate through list_of_ints and multiply each integer by each other integer, and then multiply that product by each other other integer. This would probably involve nesting 3 loops. But that would be an \n",
    "# O(n3)O(n^3)\n",
    "# O(n\n",
    "# ​3\n",
    "# ​​) runtime! We can definitely do better than that. \n",
    "# Because any integer in the list could potentially be part of the greatest product of three integers, we must at least look at each integer. So we're doomed to spend at least \n",
    "# O(n)O(n)\n",
    "# O(n) time. \n",
    "\n",
    "\n",
    "list_of_ints = [1, 10, -5, 1, -100]\n",
    "\n",
    "list_of_ints = [-10, -10, 1, 3, 2]\n",
    "\n",
    "def highest_product_of_three(v):\n",
    "    if len(v) < 3:\n",
    "        raise Exception(\"Less than 3 items!\")\n",
    "    \n",
    "    \n",
    "    # greedy approach, keep track of the following:\n",
    "    highest_product_of_three = reduce(mul, v[:3])\n",
    "    highest_product_of_two = max(reduce(mul, v[:2]), reduce(mul, v[1:3]))\n",
    "    lowest_product_of_two = min(reduce(mul, v[:2]), reduce(mul, v[1:3]))\n",
    "    highest_number = max(v[:3])\n",
    "    lowest_number = min(v[:3])\n",
    "    \n",
    "    # loop through starting at index 3\n",
    "#     for i in range(3, len(v)):\n",
    "#         print(i)\n",
    "#         c = v[i]  # current \n",
    "    for c in islice(v, 2, None):  # walk through items, starting at index 2\n",
    "#     for c in v[3:]:\n",
    "\n",
    "        highest_product_of_three = max(highest_product_of_two * c, lowest_product_of_two * c, highest_product_of_three)\n",
    "        \n",
    "        highest_product_of_two = max(highest_product_of_two, c * lowest_number, c * highest_number)\n",
    "        lowest_product_of_two = min(lowest_product_of_two, c * lowest_number, c * highest_number)\n",
    "\n",
    "        if c > highest_number:\n",
    "            highest_number = c\n",
    "        if c < lowest_number:\n",
    "            lowest_number = c\n",
    "            \n",
    "        \n",
    "        \n",
    "#         print(highest_product_of_three)\n",
    "        \n",
    "    return highest_product_of_three\n",
    "    \n",
    "    \n",
    "highest_product_of_three(list_of_ints)"
   ]
  },
  {
   "cell_type": "code",
   "execution_count": 30,
   "metadata": {
    "scrolled": true
   },
   "outputs": [
    {
     "data": {
      "text/plain": [
       "[(1, 2, 3), (1, 3, 2), (2, 1, 3), (2, 3, 1), (3, 1, 2), (3, 2, 1)]"
      ]
     },
     "execution_count": 30,
     "metadata": {},
     "output_type": "execute_result"
    }
   ],
   "source": [
    "import itertools\n",
    "list(itertools.permutations([1, 2, 3]))\n",
    "\n",
    "list(itertools.permutations([1, 2, 3], 3))"
   ]
  },
  {
   "cell_type": "code",
   "execution_count": 34,
   "metadata": {},
   "outputs": [
    {
     "data": {
      "text/plain": [
       "{'bottom_y': 6, 'height': 3, 'left_x': 3, 'width': 8}"
      ]
     },
     "execution_count": 34,
     "metadata": {},
     "output_type": "execute_result"
    }
   ],
   "source": [
    "\"\"\" intersection of 2 rectangles \"\"\"\n",
    "\n",
    "my_rectangle = {\n",
    "    # coordinates of bottom left corner\n",
    "    'left_x' : 1,\n",
    "    'bottom_y' : 5,\n",
    "    \n",
    "    # width and height\n",
    "    'width' : 10,\n",
    "    'height' : 4,\n",
    "}\n",
    "\n",
    "your_rectangle = {\n",
    "    'left_x' : 3,\n",
    "    'bottom_y' : 6,\n",
    "    'width' : 10,\n",
    "    'height': 3,\n",
    "}\n",
    "\n",
    "def find_x_overlap(a, b):\n",
    "    # force a['left_x'] to the left of b['left_x']\n",
    "#     if a['left_x'] > b['left_x']:\n",
    "#         return find_x_overlap(b,a)\n",
    "    \n",
    "#     #     if there is no overlap\n",
    "#     if a['left_x'] + a['width'] <= b['left_x']:\n",
    "#         return 0\n",
    "    \n",
    "    highest_start_point = max(a['left_x'], b['left_x']) # lhs of overlap will always be the highest start point\n",
    "    lowest_end_point = min(a['left_x'] + a['width'], b['left_x'] + b['width'])  # rhs is lowest end point\n",
    "#     a['right_x'] = a['left_x'] + a['width']\n",
    "#     if a['right_x'] > b['left_x']:\n",
    "#     print(highest_start_point, lowest_end_point)\n",
    "\n",
    "#     if there is no overlap\n",
    "    if highest_start_point >= lowest_end_point:\n",
    "        return (None, None)  # return null overlap\n",
    "\n",
    "#         highest_start_point = a['left_x']\n",
    "        \n",
    "#     else:\n",
    "#         highest_start_point = b['left_x']\n",
    "    \n",
    "    \n",
    "    # case where ranges overlap\n",
    "    return (highest_start_point, lowest_end_point - highest_start_point)\n",
    "\n",
    "def find_y_overlap(a, b):\n",
    "    \n",
    "    a_y = a['bottom_y']\n",
    "    b_y = b['bottom_y']\n",
    "    \n",
    "    bottom = max(a_y, b_y) # highest_start_point\n",
    "    top = min(a_y + a['height'], b_y + b['height'])  # lowest_end_point\n",
    "#     print(bottom, top)\n",
    "    \n",
    "    #  if there's no overlap, return None, None\n",
    "    if bottom >= top:\n",
    "        return (None, None)\n",
    "    \n",
    "    return (bottom, top - bottom)\n",
    "    \n",
    "    \n",
    "    \n",
    "find_x_overlap(my_rectangle, your_rectangle), find_y_overlap(my_rectangle, your_rectangle)\n",
    "\n",
    "\n",
    "def rectangle_intersection(a, b):\n",
    "    \"\"\"\n",
    "    \"\"\"\n",
    "    intersection = {}\n",
    "    \n",
    "    intersection['left_x'] = find_x_overlap(a, b)[0]\n",
    "    intersection['bottom_y'] = find_y_overlap(a,b)[0]\n",
    "    \n",
    "    intersection['width'] = find_x_overlap(a,b)[1]\n",
    "    intersection['height'] = find_y_overlap(a,b)[1]\n",
    "\n",
    "    return intersection\n",
    "\n",
    "\n",
    "\n",
    "rectangle_intersection(my_rectangle, your_rectangle)"
   ]
  },
  {
   "cell_type": "code",
   "execution_count": 32,
   "metadata": {},
   "outputs": [
    {
     "data": {
      "text/plain": [
       "{'bottom_y': 6, 'height': 3, 'left_x': 3, 'width': 8}"
      ]
     },
     "execution_count": 32,
     "metadata": {},
     "output_type": "execute_result"
    }
   ],
   "source": [
    "def find_range_overlap(point1, length1, point2, length2):\n",
    "\n",
    "    # find the highest start point and lowest end point.\n",
    "    # the highest (\"rightmost\" or \"upmost\") start point is\n",
    "    # the start point of the overlap.\n",
    "    # the lowest end point is the end point of the overlap.\n",
    "    highest_start_point = max(point1, point2)\n",
    "    lowest_end_point = min(point1 + length1, point2 + length2)\n",
    "\n",
    "    # return null overlap if there is no overlap\n",
    "    if highest_start_point >= lowest_end_point:\n",
    "        return (None, None)\n",
    "\n",
    "    # compute the overlap length\n",
    "    overlap_length = lowest_end_point - highest_start_point\n",
    "\n",
    "    return (highest_start_point, overlap_length)\n",
    "\n",
    "def find_rectangular_overlap(rect1, rect2):\n",
    "\n",
    "    # get the x and y overlap points and lengths\n",
    "    x_overlap_point, overlap_width  = find_range_overlap(\\\n",
    "        rect1['left_x'], rect1['width'],  rect2['left_x'], rect2['width'])\n",
    "    y_overlap_point, overlap_height = find_range_overlap(\\\n",
    "        rect1['bottom_y'], rect1['height'], rect2['bottom_y'], rect2['height'])\n",
    "\n",
    "    # return null rectangle if there is no overlap\n",
    "    if not overlap_width or not overlap_height:\n",
    "        return {\n",
    "            'left_x': None,\n",
    "            'bottom_y': None,\n",
    "            'width': None,\n",
    "            'height': None,\n",
    "        }\n",
    "\n",
    "    return {\n",
    "        'left_x': x_overlap_point,\n",
    "        'bottom_y': y_overlap_point,\n",
    "        'width': overlap_width,\n",
    "        'height': overlap_height,\n",
    "    }\n",
    "\n",
    "\n",
    "find_rectangular_overlap(my_rectangle, your_rectangle)"
   ]
  },
  {
   "cell_type": "code",
   "execution_count": 24,
   "metadata": {
    "collapsed": true
   },
   "outputs": [],
   "source": [
    "\"\"\" binary tree class \"\"\"\n",
    "\n",
    "class BinaryTreeNode:\n",
    "    def __init__(self, value):\n",
    "        self.value = value\n",
    "        self.left = None\n",
    "        self.right = None\n",
    "        \n",
    "    def insert_left(self, value):\n",
    "        self.left = BinaryTreeNode(value)\n",
    "        return self.left\n",
    "        \n",
    "    def insert_right(self, value):\n",
    "        self.right = BinaryTreeNode(value)\n",
    "        return self.right"
   ]
  },
  {
   "cell_type": "code",
   "execution_count": 2,
   "metadata": {
    "collapsed": true
   },
   "outputs": [],
   "source": [
    "\"\"\"check whether a binary tree is superbalanced, meaning that the difference in depth between any two leaf nodes \n",
    "is no greater than 2\"\"\"\n",
    "\n",
    "def is_balanced(root):\n",
    "    \"\"\"\n",
    "    use depth first traversal to check that there are no more than 2 different depths, or there are exactly 2 depths\n",
    "    but their difference is greater than 1\n",
    "    \"\"\"\n",
    "    \n",
    "    depths = []  # add node, depth tuples\n",
    "        \n",
    "    # store stack of node, depth tuples\n",
    "    nodes = []\n",
    "    nodes.append((root, 0))\n",
    "    \n",
    "    while len(nodes):\n",
    "        \n",
    "        # pop off nodes\n",
    "        node, depth = nodes.pop()\n",
    "        \n",
    "\n",
    "        # check if node is a leaf\n",
    "        if (not node.left) and (not node.right):\n",
    "                \n",
    "            # we only care if depth is not already in depths\n",
    "            if depth not in depths:\n",
    "                depths.append(depth)\n",
    "\n",
    "                # check if there is greater than 1 depth\n",
    "                if len(depths) > 2 or (len(depths == 2 and abs(lenght[0]-lenghts[1]) > 1)):\n",
    "                    return False\n",
    "        \n",
    "        # not a leaf, depth first traversal\n",
    "        else:\n",
    "            if node.left:\n",
    "#                 node = node.left\n",
    "                depths.append(node.left, depth + 1)\n",
    "            if node.right:\n",
    "#                 node = node.right\n",
    "                depths.append(node.right, depth + 1)\n",
    "    \n",
    "    return True"
   ]
  },
  {
   "cell_type": "code",
   "execution_count": 3,
   "metadata": {
    "collapsed": true
   },
   "outputs": [],
   "source": [
    "  def is_balanced(tree_root):\n",
    "    depths = [] # we short-circuit as soon as we find more than 2\n",
    "\n",
    "    # we'll treat this list as a stack that will store tuples of (node, depth)\n",
    "    nodes = []\n",
    "    nodes.append((tree_root, 0))\n",
    "\n",
    "    while len(nodes):\n",
    "\n",
    "        # pop a node and its depth from the top of our stack\n",
    "        node, depth = nodes.pop()\n",
    "\n",
    "        # case: we found a leaf\n",
    "        if (not node.left) and (not node.right):\n",
    "\n",
    "            # we only care if it's a new depth\n",
    "            if depth not in depths:\n",
    "                depths.append(depth)\n",
    "\n",
    "                # two ways we might now have an unbalanced tree:\n",
    "                #   1) more than 2 different leaf depths\n",
    "                #   2) 2 leaf depths that are more than 1 apart\n",
    "                if (len(depths) > 2) or \\\n",
    "                        (len(depths) == 2 and abs(depths[0] - depths[1]) > 1):\n",
    "                    return False\n",
    "\n",
    "        # case: this isn't a leaf - keep stepping down\n",
    "        else:\n",
    "            if node.left:\n",
    "                nodes.append((node.left, depth + 1))\n",
    "            if node.right:\n",
    "                nodes.append((node.right, depth + 1))\n",
    "\n",
    "    return True\n"
   ]
  },
  {
   "cell_type": "code",
   "execution_count": 4,
   "metadata": {
    "scrolled": true
   },
   "outputs": [],
   "source": [
    "# product of all other numbers\n",
    "\n",
    "from functools import reduce\n",
    "import operator\n",
    "\n",
    "# brute force\n",
    "def product_of_all_other_numbers(v):\n",
    "    return [reduce(operator.mul, v[:i] + v[i+1:]) for i in range(len(v))]"
   ]
  },
  {
   "cell_type": "code",
   "execution_count": 5,
   "metadata": {},
   "outputs": [],
   "source": [
    "# greedy approach\n",
    "\n",
    "def product_of_all_others(v):\n",
    "    # store product of elements before index in a list\n",
    "    product_before_index = [None]*len(v)\n",
    "    product_so_far = 1\n",
    "    \n",
    "    for i in range(len(v)):\n",
    "        product_before_index[i] =  product_so_far\n",
    "        product_so_far *= v[i]\n",
    "        \n",
    "    # product_before_index has product of elements before index, \n",
    "    # now we need to multiply by all elemnents to right of index\n",
    "#     for i in range(len(product_before_index)):\n",
    "#         # multiply by all elements after\n",
    "#         product_before_index\n",
    "    # start from the back end\n",
    "    \n",
    "    product_after_index = 1\n",
    "    \n",
    "    for i in range(len(product_before_index)-1, 0, -1):\n",
    "#         print(i)\n",
    "        product_before_index[i] *= product_after_index\n",
    "        product_after_index *= v[i]\n",
    "        \n",
    "# product_of_all_others([1, 2, 3, 4, 5])"
   ]
  },
  {
   "cell_type": "code",
   "execution_count": 6,
   "metadata": {},
   "outputs": [],
   "source": [
    "# for i in range(5, -1, -1):\n",
    "#     print(i)"
   ]
  },
  {
   "cell_type": "code",
   "execution_count": 6,
   "metadata": {},
   "outputs": [
    {
     "ename": "NameError",
     "evalue": "name 'product_of_all_other_numbers' is not defined",
     "output_type": "error",
     "traceback": [
      "\u001b[0;31m---------------------------------------------------------------------------\u001b[0m",
      "\u001b[0;31mNameError\u001b[0m                                 Traceback (most recent call last)",
      "\u001b[0;32m<ipython-input-6-db89dae869fa>\u001b[0m in \u001b[0;36m<module>\u001b[0;34m\u001b[0m\n\u001b[1;32m     14\u001b[0m \u001b[0mreduce\u001b[0m\u001b[0;34m(\u001b[0m\u001b[0moperator\u001b[0m\u001b[0;34m.\u001b[0m\u001b[0mmul\u001b[0m\u001b[0;34m,\u001b[0m \u001b[0;34m[\u001b[0m\u001b[0;36m1\u001b[0m\u001b[0;34m,\u001b[0m \u001b[0;36m2\u001b[0m\u001b[0;34m,\u001b[0m \u001b[0;36m3\u001b[0m\u001b[0;34m]\u001b[0m\u001b[0;34m)\u001b[0m\u001b[0;34m\u001b[0m\u001b[0;34m\u001b[0m\u001b[0m\n\u001b[1;32m     15\u001b[0m \u001b[0;34m\u001b[0m\u001b[0m\n\u001b[0;32m---> 16\u001b[0;31m \u001b[0mproduct_of_all_other_numbers\u001b[0m\u001b[0;34m(\u001b[0m\u001b[0mv\u001b[0m\u001b[0;34m)\u001b[0m\u001b[0;34m\u001b[0m\u001b[0;34m\u001b[0m\u001b[0m\n\u001b[0m",
      "\u001b[0;31mNameError\u001b[0m: name 'product_of_all_other_numbers' is not defined"
     ]
    }
   ],
   "source": [
    "v = [1, 7, 3, 4]\n",
    "# v[2:]\n",
    "# for i in range(2):\n",
    "#     print(i)\n",
    "\n",
    "# v[:3] + v[3+1:]\n",
    "# print(v)\n",
    "# product?\n",
    "\n",
    "from functools import reduce\n",
    "import operator\n",
    "\n",
    "# reduce?\n",
    "reduce(operator.mul, [1, 2, 3])\n",
    "\n",
    "product_of_all_other_numbers(v)"
   ]
  },
  {
   "cell_type": "code",
   "execution_count": 8,
   "metadata": {
    "collapsed": true
   },
   "outputs": [],
   "source": [
    "def get_products_of_all_ints_except_at_index(int_list):\n",
    "\n",
    "    # we make a list with the length of the input list to\n",
    "    # hold our products\n",
    "    products_of_all_ints_except_at_index = [None] * len(int_list)\n",
    "\n",
    "    # for each integer, we find the product of all the integers\n",
    "    # before it, storing the total product so far each time\n",
    "    product_so_far = 1\n",
    "    i = 0\n",
    "    while i < len(int_list):\n",
    "        products_of_all_ints_except_at_index[i] = product_so_far\n",
    "        product_so_far *= int_list[i]\n",
    "        i += 1\n",
    "\n",
    "    # for each integer, we find the product of all the integers\n",
    "    # after it. since each index in products already has the\n",
    "    # product of all the integers before it, now we're storing\n",
    "    # the total product of all other integers\n",
    "    product_so_far = 1\n",
    "    i = len(int_list) - 1\n",
    "    while i >= 0:\n",
    "        products_of_all_ints_except_at_index[i] *= product_so_far\n",
    "        product_so_far *= int_list[i]\n",
    "        i -= 1\n",
    "\n",
    "    return products_of_all_ints_except_at_index"
   ]
  },
  {
   "cell_type": "code",
   "execution_count": 3,
   "metadata": {
    "scrolled": true
   },
   "outputs": [
    {
     "name": "stdout",
     "output_type": "stream",
     "text": [
      "6\n"
     ]
    },
    {
     "data": {
      "text/plain": [
       "-1"
      ]
     },
     "execution_count": 3,
     "metadata": {},
     "output_type": "execute_result"
    }
   ],
   "source": [
    "#  Suppose we could access yesterday's stock prices as a list, where:\n",
    "#     The indices are the time in minutes past trade opening time, which was 9:30am local time.\n",
    "#     The values are the price in dollars of Apple stock at that time.\n",
    "# So if the stock cost $500 at 10:30am, stock_prices_yesterday[60] = 500.\n",
    "# Write an efficient function that takes stock_prices_yesterday and returns the best profit I could have made from 1 purchase and 1 sale of 1 Apple stock yesterday. \n",
    "\n",
    "stock_prices_yesterday = [10, 7, 5, 8, 11, 9]\n",
    "monotonic_decrease= [10, 9, 5, 3.5, 2, 0]\n",
    "\n",
    "\n",
    "def get_max_profit(v):\n",
    "    \"\"\"\n",
    "    O(n) time, and O(1) space\n",
    "    : edge case when stock prices goes down all day, return negative profit\n",
    "    \"\"\"\n",
    "    # calculate max profit for each minute, and store largest value\n",
    "    \n",
    "    if len(v) < 2:\n",
    "        raise IndexError(\"At least 2 stock prices required to compute profit.\")\n",
    "    max_profit = v[1] - v[0]\n",
    "    min_price = v[0]\n",
    "\n",
    "    for i in range(len(v)-1):\n",
    "        \n",
    "        # skip the first (0th) time\n",
    "        if i == 0:\n",
    "            continue\n",
    "        \n",
    "        if v[i] < min_price:\n",
    "            min_price = v[i]\n",
    "        profit = v[i+1] - min_price\n",
    "#         profit = v[i+1] - min(v[:i+1])  # would storing min improve time complexity? - yes\n",
    "        if profit > max_profit:\n",
    "            max_profit = profit\n",
    "    return max_profit\n",
    "\n",
    "print(get_max_profit(stock_prices_yesterday))\n",
    "# returns 6 (buying for $5 and selling for $11)\n",
    "\n",
    "get_max_profit(monotonic_decrease)"
   ]
  },
  {
   "cell_type": "code",
   "execution_count": 10,
   "metadata": {
    "collapsed": true
   },
   "outputs": [],
   "source": [
    "def get_max_profit(stock_prices_yesterday):\n",
    "\n",
    "    # make sure we have at least 2 prices\n",
    "    if len(stock_prices_yesterday) < 2:\n",
    "        raise IndexError('Getting a profit requires at least 2 prices')\n",
    "\n",
    "    # we'll greedily update min_price and max_profit, so we initialize\n",
    "    # them to the first price and the first possible profit\n",
    "    min_price = stock_prices_yesterday[0]\n",
    "    max_profit = stock_prices_yesterday[1] - stock_prices_yesterday[0]\n",
    "\n",
    "    for index, current_price in enumerate(stock_prices_yesterday):\n",
    "\n",
    "        # skip the first (0th) time\n",
    "        # we can't sell at the first time, since we must buy first,\n",
    "        # and we can't buy and sell at the same time!\n",
    "        # if we took this out, we'd try to buy /and/ sell at time 0.\n",
    "        # this would give a profit of 0, which is a problem if our\n",
    "        # max_profit is supposed to be /negative/--we'd return 0!\n",
    "        if index == 0:\n",
    "            continue\n",
    "\n",
    "        # see what our profit would be if we bought at the\n",
    "        # min price and sold at the current price\n",
    "        potential_profit = current_price - min_price\n",
    "\n",
    "        # update max_profit if we can do better\n",
    "        max_profit = max(max_profit, potential_profit)\n",
    "\n",
    "        # update min_price so it's always\n",
    "        # the lowest price we've seen so far\n",
    "        min_price  = min(min_price, current_price)\n",
    "\n",
    "    return max_profit"
   ]
  },
  {
   "cell_type": "code",
   "execution_count": 11,
   "metadata": {
    "scrolled": true
   },
   "outputs": [
    {
     "name": "stdout",
     "output_type": "stream",
     "text": [
      "[10, 7, 5]\n",
      "0 , 10\n",
      "<enumerate object at 0x10466eb88>\n",
      "1 , 7\n",
      "<enumerate object at 0x10466eb88>\n",
      "2 , 5\n",
      "<enumerate object at 0x10466eb88>\n",
      "3 , 8\n",
      "<enumerate object at 0x10466eb88>\n",
      "4 , 11\n",
      "<enumerate object at 0x10466eb88>\n",
      "5 , 9\n",
      "<enumerate object at 0x10466eb88>\n"
     ]
    }
   ],
   "source": [
    "print(stock_prices_yesterday[0:3])\n",
    "\n",
    "for earlier_time, earlier_price in enumerate(stock_prices_yesterday):\n",
    "    print(earlier_time, \",\", earlier_price)\n",
    "    print(enumerate(stock_prices_yesterday))"
   ]
  },
  {
   "cell_type": "code",
   "execution_count": 12,
   "metadata": {},
   "outputs": [],
   "source": [
    "# A left rotation operation on an array of size  shifts each of the array's elements  unit to the left. For example, if left rotations are performed on array , then the array would become .\n",
    "\n",
    "# Given an array of  integers and a number, , perform  left rotations on the array. Then print the updated array as a single line of space-separated integers.\n",
    "\n",
    "def left_rotate(v, d):\n",
    "    \"\"\"\n",
    "    perform d left rotations on list v\n",
    "    \"\"\"\n",
    "#     if d == len(v):\n",
    "#         return v\n",
    "#     else:\n",
    "#         t = []\n",
    "#         t.append(v[d:])\n",
    "# #         for i in range(len(v)):\n",
    "# #             t.append(v[d])\n",
    "#         t.append(v[:d])\n",
    "    \n",
    "    return v[d:] + v[:d]"
   ]
  },
  {
   "cell_type": "code",
   "execution_count": 13,
   "metadata": {
    "scrolled": false
   },
   "outputs": [
    {
     "name": "stdout",
     "output_type": "stream",
     "text": [
      "[1, 2, 3, 4, 5]\n"
     ]
    }
   ],
   "source": [
    "l = [1, 2, 3, 4, 5]\n",
    "\n",
    "# l[:4]\n",
    "print(left_rotate(l, 5))"
   ]
  },
  {
   "cell_type": "code",
   "execution_count": 18,
   "metadata": {
    "collapsed": true
   },
   "outputs": [],
   "source": [
    "class TreeNode:\n",
    "    def __init__(self, value):\n",
    "        self.value = value\n",
    "        self.left = None\n",
    "        self.right = None\n",
    "    \n",
    "    def insert_left(self, value):\n",
    "        self.left = TreeNode(value)\n",
    "        return self.left\n",
    "        \n",
    "    def insert_right(self, value):\n",
    "        self.right = TreeNode(value)\n",
    "        return self.right\n",
    "\n",
    "class BinaryTree:\n",
    "    def __init__(self, head = None):\n",
    "        self.head = head"
   ]
  },
  {
   "cell_type": "code",
   "execution_count": 19,
   "metadata": {
    "collapsed": true
   },
   "outputs": [],
   "source": [
    "  def max_duffel_bag_value(cake_tuples, weight_capacity):\n",
    "\n",
    "    # we make a list to hold the maximum possible value at every\n",
    "    # duffel bag weight capacity from 0 to weight_capacity\n",
    "    # starting each index with value 0\n",
    "    max_values_at_capacities = [0] * (weight_capacity + 1)\n",
    "\n",
    "    for current_capacity in xrange(weight_capacity + 1):\n",
    "\n",
    "        # set a variable to hold the max monetary value so far for current_capacity\n",
    "        current_max_value = 0\n",
    "\n",
    "        for cake_weight, cake_value in cake_tuples:\n",
    "\n",
    "            # if a cake weighs 0 and has a positive value the value of our duffel bag is infinite!\n",
    "            if (cake_weight == 0 and cake_value != 0):\n",
    "                return float('inf')\n",
    "\n",
    "            # if the current cake weighs as much or less than the current weight capacity\n",
    "            # it's possible taking the cake would give get a better value\n",
    "            if (cake_weight <= current_capacity):\n",
    "\n",
    "                # so we check: should we use the cake or not?\n",
    "                # if we use the cake, the most kilograms we can include in addition to the cake\n",
    "                # we're adding is the current capacity minus the cake's weight. we find the max\n",
    "                # value at that integer capacity in our list max_values_at_capacities\n",
    "                max_value_using_cake = cake_value + max_values_at_capacities[current_capacity - cake_weight]\n",
    "\n",
    "                # now we see if it's worth taking the cake. how does the\n",
    "                # value with the cake compare to the current_max_value?\n",
    "                current_max_value = max(max_value_using_cake, current_max_value)\n",
    "\n",
    "        # add each capacity's max value to our list so we can use them\n",
    "        # when calculating all the remaining capacities\n",
    "        max_values_at_capacities[current_capacity] = current_max_value\n",
    "\n",
    "    return max_values_at_capacities[weight_capacity]\n"
   ]
  },
  {
   "cell_type": "markdown",
   "metadata": {},
   "source": [
    "O(n∗k) time, and O(k)O(k)O(k) space, where nnn is number of types of cake and kkk is the capacity of the duffel bag. We loop through each cake (nnn cakes) for every capacity (kkk capacities), so our runtime is O(n∗k)O(n*k)O(n∗k), and maintaining the list of k+1k+1k+1 capacities gives us the O(k)O(k)O(k) space. "
   ]
  },
  {
   "cell_type": "code",
   "execution_count": 20,
   "metadata": {
    "collapsed": true
   },
   "outputs": [],
   "source": [
    "  def reverse(string):\n",
    "    string_list = list(string)\n",
    "\n",
    "    left_pointer  = 0\n",
    "    right_pointer = len(string_list) - 1\n",
    "\n",
    "    while left_pointer < right_pointer:\n",
    "\n",
    "        # swap characters\n",
    "        string_list[left_pointer], string_list[right_pointer] = \\\n",
    "            string_list[right_pointer], string_list[left_pointer]\n",
    "\n",
    "        # move towards middle\n",
    "        left_pointer  += 1\n",
    "        right_pointer -= 1\n",
    "\n",
    "    return ''.join(string_list)\n"
   ]
  }
 ],
 "metadata": {
  "anaconda-cloud": {},
  "kernelspec": {
   "display_name": "Python 3",
   "language": "python",
   "name": "python3"
  },
  "language_info": {
   "codemirror_mode": {
    "name": "ipython",
    "version": 3
   },
   "file_extension": ".py",
   "mimetype": "text/x-python",
   "name": "python",
   "nbconvert_exporter": "python",
   "pygments_lexer": "ipython3",
   "version": "3.7.3"
  }
 },
 "nbformat": 4,
 "nbformat_minor": 1
}
