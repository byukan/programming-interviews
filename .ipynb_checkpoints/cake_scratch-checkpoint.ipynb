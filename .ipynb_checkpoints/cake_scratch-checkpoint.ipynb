{
 "cells": [
  {
   "cell_type": "code",
   "execution_count": 8,
   "metadata": {},
   "outputs": [
    {
     "name": "stdout",
     "output_type": "stream",
     "text": [
      "red\n",
      "blue\n",
      "red\n"
     ]
    }
   ],
   "source": [
    "# Find a coloring of a graph such that no 2 adjacent nodes share the same color.\n",
    "# A graph with degree D needs only D+1 distinct colors to produce a legal coloring.\n",
    "\n",
    "class GraphNode:\n",
    "    def __init__(self, label):\n",
    "        self.label = label\n",
    "        self.neighbors = set()\n",
    "        self.color = None\n",
    "\n",
    "        \n",
    "def color_graph(graph, colors):\n",
    "    \"\"\"\n",
    "    loop through each node and assign an legal color\n",
    "    \"\"\"\n",
    "    for x in graph:\n",
    "        if x in x.neighbors:\n",
    "            raise Exception('A legal coloring does not exist for node %s because it has a self edge.' %x.label)\n",
    "        illegal_colors = set(x.color for x in x.neighbors if x.color)\n",
    "        for c in colors:\n",
    "            if c not in illegal_colors:\n",
    "                x.color = c\n",
    "                break\n",
    "        \n",
    "    \n",
    "    \n",
    "        \n",
    "a = GraphNode('a')\n",
    "b = GraphNode('b')\n",
    "c = GraphNode('c')\n",
    "\n",
    "a.neighbors.add(b)\n",
    "b.neighbors.add(a)\n",
    "b.neighbors.add(c)\n",
    "c.neighbors.add(b)\n",
    "\n",
    "\n",
    "\n",
    "graph = [a, b, c]\n",
    "colors = ['red', 'blue', 'yellow', 'orange']\n",
    "\n",
    "color_graph(graph, colors)\n",
    "for x in graph:\n",
    "    print(x.color)"
   ]
  },
  {
   "cell_type": "code",
   "execution_count": 1,
   "metadata": {},
   "outputs": [
    {
     "name": "stdout",
     "output_type": "stream",
     "text": [
      "[1, 3, 4, 5, 6, 8, 10, 11, 12, 14, 15, 19]\n"
     ]
    }
   ],
   "source": [
    "def merge_lists(v, w):\n",
    "    r = [None] * (len(v) + len(w))\n",
    "    i, j, k = 0, 0, 0\n",
    "    while i < len(v):\n",
    "        if v[i] <= w[j]:\n",
    "            r[k] = v[i]\n",
    "            i += 1\n",
    "        else:\n",
    "            r[k] = w[j]\n",
    "            j += 1\n",
    "        k += 1\n",
    "    while j < len(w):\n",
    "        r[k] = w[j]\n",
    "        k += 1\n",
    "        j += 1\n",
    "    \n",
    "    return r\n",
    "\n",
    "my_list     = [3, 4, 6, 10, 11, 15]\n",
    "alices_list = [1, 5, 8, 12, 14, 19]\n",
    "\n",
    "# Prints [1, 3, 4, 5, 6, 8, 10, 11, 12, 14, 15, 19]\n",
    "print(merge_lists(my_list, alices_list))"
   ]
  }
 ],
 "metadata": {
  "kernelspec": {
   "display_name": "Python 3",
   "language": "python",
   "name": "python3"
  },
  "language_info": {
   "codemirror_mode": {
    "name": "ipython",
    "version": 3
   },
   "file_extension": ".py",
   "mimetype": "text/x-python",
   "name": "python",
   "nbconvert_exporter": "python",
   "pygments_lexer": "ipython3",
   "version": "3.8.8"
  }
 },
 "nbformat": 4,
 "nbformat_minor": 2
}
