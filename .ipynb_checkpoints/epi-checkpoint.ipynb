{
 "cells": [
  {
   "cell_type": "code",
   "execution_count": 4,
   "metadata": {},
   "outputs": [],
   "source": [
    "from collections import namedtuple\n",
    "\n",
    "class Stack:\n",
    "    \"\"\"\n",
    "    implement a stack with max api\n",
    "    each element keeps track of the max, taking O(n) space.  There's an improved implementation,\n",
    "    which will be done later that imporves the best case space complexity.\n",
    "    \"\"\"\n",
    "    ElementWithCachedMax = namedtuple('ElementWithCachedMax', ('element', 'max'))\n",
    "    \n",
    "    def __init__(self):\n",
    "        self._element_with_cached_max = []\n",
    "    \n",
    "    \n",
    "    def empty(self):\n",
    "        return len(self._element_with_cached_max) == 0\n",
    "        \n",
    "    \n",
    "    def max(self):\n",
    "        if self.empty():\n",
    "            raise IndexError('max(): empty stack')\n",
    "        return self._element_with_cached_max[-1].max\n",
    "    \n",
    "    \n",
    "    def push(self, x):\n",
    "        self._element_with_cached_max.append(\n",
    "            self.ElementWithCachedMax(x, x if self.empty() else max(x, self.max())))\n",
    "        \n",
    "        \n",
    "    \n",
    "    def pop(self):\n",
    "        if self.empty():\n",
    "            raise Indexerror('pop(): empty stack')\n",
    "        return self._element_with_cached_max.pop().element"
   ]
  },
  {
   "cell_type": "code",
   "execution_count": 51,
   "metadata": {},
   "outputs": [
    {
     "data": {
      "text/plain": [
       "'12'"
      ]
     },
     "execution_count": 51,
     "metadata": {},
     "output_type": "execute_result"
    }
   ],
   "source": [
    "('-' if False else '') + ''.join(['1', '2'])"
   ]
  },
  {
   "cell_type": "code",
   "execution_count": 40,
   "metadata": {},
   "outputs": [],
   "source": [
    "class ListNode:\n",
    "    def __init__(self, data=0, next=None):\n",
    "        self.data = data\n",
    "        self.next = next\n",
    "\n",
    "\n",
    "def merge_sorted_lists(v, w):\n",
    "    # create placeholder for result\n",
    "    head = tail = ListNode()\n",
    "    \n",
    "    while v and w:\n",
    "        if v.data < w.data:\n",
    "            tail.next, v = v, v.next\n",
    "        else:\n",
    "            tail.next, w = w, w.next\n",
    "        tail = tail.next\n",
    "    \n",
    "    # append the remaining list\n",
    "    tail.next = v or w\n",
    "    \n",
    "    return head.next"
   ]
  },
  {
   "cell_type": "code",
   "execution_count": 31,
   "metadata": {},
   "outputs": [
    {
     "data": {
      "text/plain": [
       "'314'"
      ]
     },
     "execution_count": 31,
     "metadata": {},
     "output_type": "execute_result"
    }
   ],
   "source": [
    "s = '-314'\n",
    "s[s[0] == '-':]"
   ]
  },
  {
   "cell_type": "code",
   "execution_count": 26,
   "metadata": {},
   "outputs": [
    {
     "data": {
      "text/plain": [
       "3"
      ]
     },
     "execution_count": 26,
     "metadata": {},
     "output_type": "execute_result"
    }
   ],
   "source": [
    "string.digits.index('3')"
   ]
  },
  {
   "cell_type": "code",
   "execution_count": 54,
   "metadata": {
    "scrolled": true
   },
   "outputs": [
    {
     "data": {
      "text/plain": [
       "('314', 314)"
      ]
     },
     "execution_count": 54,
     "metadata": {},
     "output_type": "execute_result"
    }
   ],
   "source": [
    "from functools import reduce\n",
    "import string\n",
    "\n",
    "def int_to_str(n):\n",
    "    \"\"\"\n",
    "    keep track of negative sign in bool\n",
    "    mod 10 to append last digit to list of char using chr of ord\n",
    "    \"\"\"\n",
    "    is_neg = False\n",
    "    if n < 0:\n",
    "        n, is_neg = -n, True\n",
    "    \n",
    "    s = []\n",
    "    while True:\n",
    "        s.append(chr(ord('0') + n%10))\n",
    "        n //= 10\n",
    "        if n == 0:\n",
    "            break\n",
    "        \n",
    "    return ('-' if is_neg else '') + ''.join(reversed(s))\n",
    "    \n",
    "\n",
    "def str_to_int(s):\n",
    "    \"\"\"\n",
    "    iterate through the string, multiply by 10 and add the digit at each step\n",
    "    \"\"\"\n",
    "    return reduce(lambda running_sum, c: running_sum * 10 + string.digits.index(c),\n",
    "                  s[s[0] in '+-':], 0) * (-1 if s[0] == '-' else 1)\n",
    "    \n",
    "    \n",
    "    \n",
    "    \n",
    "int_to_str(314), str_to_int('314')"
   ]
  },
  {
   "cell_type": "code",
   "execution_count": 46,
   "metadata": {},
   "outputs": [
    {
     "data": {
      "text/plain": [
       "[0, 0, 0, 1, 1, 1, 1, 2, 2, 2]"
      ]
     },
     "execution_count": 46,
     "metadata": {},
     "output_type": "execute_result"
    }
   ],
   "source": [
    "def dutch_flag_partition(pivot_index: int, A) -> None:\n",
    "    \"\"\"\n",
    "    Traverse the list once while unsorted elements remain and keep track of 4 partitions: smaller, equal, unsorted, larger.\n",
    "    smaller is [:s]\n",
    "    equal is [s:e]\n",
    "    unsorted is [e:l]\n",
    "    larger is [l:]\n",
    "    \"\"\"\n",
    "    s, e, larger = 0, 0, len(A)-1\n",
    "    pivot = A[pivot_index]\n",
    "    # keep iterating while there are unsorted elements\n",
    "    while e < larger:\n",
    "        if A[e] < pivot:\n",
    "            A[e], A[s] = A[s], A[e]\n",
    "            s += 1\n",
    "            e += 1\n",
    "        elif A[e] > pivot:\n",
    "            A[e], A[larger] = A[larger], A[e]\n",
    "            larger -= 1\n",
    "        else: # A[e] == pivot\n",
    "            e += 1\n",
    "            \n",
    "A = [2, 1, 1, 1, 0, 2, 1, 2, 0, 0]\n",
    "dutch_flag_partition(2, A)\n",
    "A"
   ]
  },
  {
   "cell_type": "code",
   "execution_count": 30,
   "metadata": {},
   "outputs": [
    {
     "name": "stdout",
     "output_type": "stream",
     "text": [
      "4\n",
      "3\n",
      "2\n",
      "1\n",
      "0\n"
     ]
    }
   ],
   "source": [
    "for i in reversed(range(5)):\n",
    "    print(i)"
   ]
  },
  {
   "cell_type": "code",
   "execution_count": 5,
   "metadata": {},
   "outputs": [
    {
     "data": {
      "text/plain": [
       "1"
      ]
     },
     "execution_count": 5,
     "metadata": {},
     "output_type": "execute_result"
    }
   ],
   "source": [
    "0 ^ 1"
   ]
  },
  {
   "cell_type": "code",
   "execution_count": 22,
   "metadata": {},
   "outputs": [
    {
     "data": {
      "text/plain": [
       "1"
      ]
     },
     "execution_count": 22,
     "metadata": {},
     "output_type": "execute_result"
    }
   ],
   "source": [
    "def parity(x):\n",
    "    parity = 0\n",
    "    while x:\n",
    "        parity ^= 1 & x\n",
    "        x >>= 1\n",
    "    return parity\n",
    "\n",
    "parity(568184680)"
   ]
  },
  {
   "cell_type": "code",
   "execution_count": 23,
   "metadata": {},
   "outputs": [
    {
     "data": {
      "text/plain": [
       "0"
      ]
     },
     "execution_count": 23,
     "metadata": {},
     "output_type": "execute_result"
    }
   ],
   "source": [
    "1 & 568184680"
   ]
  },
  {
   "cell_type": "code",
   "execution_count": 25,
   "metadata": {},
   "outputs": [
    {
     "data": {
      "text/plain": [
       "2"
      ]
     },
     "execution_count": 25,
     "metadata": {},
     "output_type": "execute_result"
    }
   ],
   "source": [
    "4 >> 1"
   ]
  },
  {
   "cell_type": "code",
   "execution_count": 18,
   "metadata": {},
   "outputs": [
    {
     "data": {
      "text/plain": [
       "Counter({'0': 14, 'b': 1, '1': 17})"
      ]
     },
     "execution_count": 18,
     "metadata": {},
     "output_type": "execute_result"
    }
   ],
   "source": [
    "from collections import Counter\n",
    "Counter(bin(568184680))"
   ]
  },
  {
   "cell_type": "code",
   "execution_count": null,
   "metadata": {},
   "outputs": [],
   "source": [
    "# skyline p413"
   ]
  },
  {
   "cell_type": "code",
   "execution_count": 6,
   "metadata": {},
   "outputs": [
    {
     "name": "stdout",
     "output_type": "stream",
     "text": [
      "4\n"
     ]
    }
   ],
   "source": [
    "# h-index\n",
    "v = [1, 4, 1, 4, 2, 1, 3, 5, 6]\n",
    "v.sort()\n",
    "n = len(v)\n",
    "for i, x in enumerate(v):\n",
    "    if x >= n - i:\n",
    "        print(n - i)\n",
    "        break"
   ]
  },
  {
   "cell_type": "code",
   "execution_count": 13,
   "metadata": {},
   "outputs": [],
   "source": [
    "# # v = [1, 4, 1, 4, 2, 1, 3, 5, 6, 7]\n",
    "# v = [1, 4, 1, 4, 2, 1, 3, 5, 6]\n",
    "# v.sort()\n",
    "# for i in range(len(v)):\n",
    "#     n = len([*filter(lambda x: x >=i, v)])\n",
    "#     if n <= i:\n",
    "#         print(i-1)\n",
    "#         break"
   ]
  },
  {
   "cell_type": "code",
   "execution_count": 2,
   "metadata": {},
   "outputs": [
    {
     "data": {
      "text/plain": [
       "3"
      ]
     },
     "execution_count": 2,
     "metadata": {},
     "output_type": "execute_result"
    }
   ],
   "source": [
    "2^2^3^4^4"
   ]
  },
  {
   "cell_type": "code",
   "execution_count": 3,
   "metadata": {},
   "outputs": [
    {
     "data": {
      "text/plain": [
       "(1, 0)"
      ]
     },
     "execution_count": 3,
     "metadata": {},
     "output_type": "execute_result"
    }
   ],
   "source": [
    "def parity(s):\n",
    "    r = 0\n",
    "    for x in s:\n",
    "        r ^= int(x)\n",
    "    return r\n",
    "    \n",
    "parity('1011'), parity('10001000')"
   ]
  },
  {
   "cell_type": "code",
   "execution_count": null,
   "metadata": {},
   "outputs": [],
   "source": []
  },
  {
   "cell_type": "code",
   "execution_count": 21,
   "metadata": {},
   "outputs": [
    {
     "name": "stdout",
     "output_type": "stream",
     "text": [
      "1 1\n",
      "2 2\n",
      "3 1\n",
      "1 0.3333333333333333\n",
      "2 0.6666666666666666\n",
      "3 1.0\n"
     ]
    }
   ],
   "source": [
    "for x in range(1, 4):\n",
    "    print(x, -abs(x-2)+2)\n",
    "for x in range(1, 4):\n",
    "    print(x, x**1/3)"
   ]
  },
  {
   "cell_type": "code",
   "execution_count": null,
   "metadata": {},
   "outputs": [],
   "source": []
  },
  {
   "cell_type": "code",
   "execution_count": 4,
   "metadata": {},
   "outputs": [
    {
     "data": {
      "text/plain": [
       "0"
      ]
     },
     "execution_count": 4,
     "metadata": {},
     "output_type": "execute_result"
    }
   ],
   "source": [
    "1 ^ 1"
   ]
  },
  {
   "cell_type": "code",
   "execution_count": 5,
   "metadata": {},
   "outputs": [
    {
     "data": {
      "text/plain": [
       "1"
      ]
     },
     "execution_count": 5,
     "metadata": {},
     "output_type": "execute_result"
    }
   ],
   "source": [
    "1 ^ 0"
   ]
  },
  {
   "cell_type": "code",
   "execution_count": 6,
   "metadata": {},
   "outputs": [
    {
     "data": {
      "text/plain": [
       "1"
      ]
     },
     "execution_count": 6,
     "metadata": {},
     "output_type": "execute_result"
    }
   ],
   "source": [
    "0 ^ 1"
   ]
  },
  {
   "cell_type": "code",
   "execution_count": 7,
   "metadata": {},
   "outputs": [
    {
     "data": {
      "text/plain": [
       "0"
      ]
     },
     "execution_count": 7,
     "metadata": {},
     "output_type": "execute_result"
    }
   ],
   "source": [
    "0 ^ 0"
   ]
  },
  {
   "cell_type": "code",
   "execution_count": 9,
   "metadata": {},
   "outputs": [
    {
     "data": {
      "text/plain": [
       "(1, 0)"
      ]
     },
     "execution_count": 9,
     "metadata": {},
     "output_type": "execute_result"
    }
   ],
   "source": [
    "def parity(s):\n",
    "    from collections import Counter\n",
    "    c = Counter(s)\n",
    "    if c['1']%2 == 0:\n",
    "        return 0\n",
    "    else:\n",
    "        return 1\n",
    "    \n",
    "parity('1011'), parity('10001000')"
   ]
  },
  {
   "cell_type": "code",
   "execution_count": 13,
   "metadata": {},
   "outputs": [
    {
     "data": {
      "text/plain": [
       "(1, 0)"
      ]
     },
     "execution_count": 13,
     "metadata": {},
     "output_type": "execute_result"
    }
   ],
   "source": [
    "import sys\n",
    "s = sys.argv\n",
    "\n",
    "def parity(s):\n",
    "    from collections import Counter\n",
    "    c = Counter(s)\n",
    "    if c['1']%2 == 0:\n",
    "        return 0\n",
    "    else:\n",
    "        return 1\n",
    "    \n",
    "parity('1011'), parity('10001000')"
   ]
  },
  {
   "cell_type": "code",
   "execution_count": 46,
   "metadata": {
    "scrolled": true
   },
   "outputs": [
    {
     "data": {
      "text/plain": [
       "4"
      ]
     },
     "execution_count": 46,
     "metadata": {},
     "output_type": "execute_result"
    }
   ],
   "source": [
    "# h-index, h papers cited at least h times\n",
    "v = [1, 5, 1, 5, 2, 1, 3, 5, 6]\n",
    "def h_index(v):\n",
    "    v.sort()\n",
    "    for i, x in enumerate(v):\n",
    "        if len(v) - i <= x:\n",
    "            return len(v) - i\n",
    "    \n",
    "h_index(v)"
   ]
  },
  {
   "cell_type": "code",
   "execution_count": 15,
   "metadata": {
    "scrolled": true
   },
   "outputs": [
    {
     "data": {
      "text/plain": [
       "[1, 1, 1, 2, 3, 4, 4, 5, 6]"
      ]
     },
     "execution_count": 15,
     "metadata": {},
     "output_type": "execute_result"
    }
   ],
   "source": [
    "v"
   ]
  },
  {
   "cell_type": "code",
   "execution_count": 16,
   "metadata": {},
   "outputs": [
    {
     "name": "stdout",
     "output_type": "stream",
     "text": [
      "4\n"
     ]
    }
   ],
   "source": [
    "v.sort()\n",
    "for i, x in enumerate(v):\n",
    "    if len(v) - i <= x:\n",
    "        print(len(v) - i)\n",
    "        break"
   ]
  },
  {
   "cell_type": "code",
   "execution_count": null,
   "metadata": {},
   "outputs": [],
   "source": []
  },
  {
   "cell_type": "code",
   "execution_count": null,
   "metadata": {},
   "outputs": [],
   "source": []
  },
  {
   "cell_type": "code",
   "execution_count": null,
   "metadata": {},
   "outputs": [],
   "source": []
  },
  {
   "cell_type": "code",
   "execution_count": null,
   "metadata": {},
   "outputs": [],
   "source": []
  },
  {
   "cell_type": "code",
   "execution_count": null,
   "metadata": {},
   "outputs": [],
   "source": []
  },
  {
   "cell_type": "code",
   "execution_count": null,
   "metadata": {},
   "outputs": [],
   "source": []
  },
  {
   "cell_type": "code",
   "execution_count": null,
   "metadata": {},
   "outputs": [],
   "source": []
  },
  {
   "cell_type": "code",
   "execution_count": null,
   "metadata": {},
   "outputs": [],
   "source": []
  },
  {
   "cell_type": "code",
   "execution_count": 3,
   "metadata": {},
   "outputs": [
    {
     "name": "stdout",
     "output_type": "stream",
     "text": [
      "0\n",
      "1\n",
      "2\n",
      "3\n",
      "4\n",
      "[4, 7, 10]\n"
     ]
    }
   ],
   "source": [
    "# Python program to demonstrate\n",
    "# the working of islice\n",
    "  \n",
    "from itertools import islice\n",
    "  \n",
    "# Slicing the range function\n",
    "for i in islice(range(20), 5): \n",
    "    print(i)\n",
    "    \n",
    "    \n",
    "li = [2, 4, 5, 7, 8, 10, 20]\n",
    "  \n",
    "# Slicing the list\n",
    "print(list(itertools.islice(li, 1, 6, 2)))  "
   ]
  },
  {
   "cell_type": "code",
   "execution_count": 40,
   "metadata": {},
   "outputs": [
    {
     "data": {
      "text/plain": [
       "[2, 4, 5, 7, 8, 10, 20]"
      ]
     },
     "execution_count": 40,
     "metadata": {},
     "output_type": "execute_result"
    }
   ],
   "source": [
    "li = [2, 4, 5, 7, 8, 10, 20]\n",
    "heapq.heapify(li)\n",
    "li"
   ]
  },
  {
   "cell_type": "code",
   "execution_count": 43,
   "metadata": {},
   "outputs": [
    {
     "data": {
      "text/plain": [
       "[20, 10, 8]"
      ]
     },
     "execution_count": 43,
     "metadata": {},
     "output_type": "execute_result"
    }
   ],
   "source": [
    "heapq.nlargest(3, li)"
   ]
  },
  {
   "cell_type": "code",
   "execution_count": 54,
   "metadata": {},
   "outputs": [
    {
     "data": {
      "text/plain": [
       "(['5959995999599959995999599999',\n",
       "  'doc fees2123123123',\n",
       "  'lising',\n",
       "  'sales taxxxx',\n",
       "  'sms',\n",
       "  'title',\n",
       "  'transfer'],\n",
       " ['transfer',\n",
       "  'title',\n",
       "  'sms',\n",
       "  'sales taxxxx',\n",
       "  'lising',\n",
       "  'doc fees2123123123',\n",
       "  '5959995999599959995999599999'])"
      ]
     },
     "execution_count": 54,
     "metadata": {},
     "output_type": "execute_result"
    }
   ],
   "source": [
    "class contra_string(str):\n",
    "    def __init__(self, s):\n",
    "        self.original = s\n",
    "        \n",
    "    def __lt__(self, s):\n",
    "        return self.original.__gt__(s)\n",
    "    \n",
    "v = ['5959995999599959995999599999',\n",
    "'doc fees2123123123',\n",
    "'sms',\n",
    "'transfer',\n",
    "'title',\n",
    "'lising',\n",
    "'sales taxxxx']\n",
    "\n",
    "sorted(v), sorted([*map(contra_string, v)])"
   ]
  },
  {
   "cell_type": "code",
   "execution_count": 4,
   "metadata": {},
   "outputs": [
    {
     "data": {
      "text/plain": [
       "[0]"
      ]
     },
     "execution_count": 4,
     "metadata": {},
     "output_type": "execute_result"
    }
   ],
   "source": [
    "h = [0]\n",
    "heapq.heapify(h)\n",
    "h"
   ]
  },
  {
   "cell_type": "code",
   "execution_count": 1,
   "metadata": {},
   "outputs": [
    {
     "data": {
      "text/plain": [
       "[(12, 'sales taxxxx'),\n",
       " (18, 'doc fees2123123123'),\n",
       " (28, '5959995999599959995999599999')]"
      ]
     },
     "execution_count": 1,
     "metadata": {},
     "output_type": "execute_result"
    }
   ],
   "source": [
    "# compute the k longest strings from a stream\n",
    "\n",
    "import itertools\n",
    "import heapq\n",
    "\n",
    "v = ['5959995999599959995999599999',\n",
    "'doc fees2123123123',\n",
    "'sms',\n",
    "'transfer',\n",
    "'title',\n",
    "'lising',\n",
    "'sales taxxxx']\n",
    "k = 3\n",
    "\n",
    "min_heap = [(len(x), x) for x in itertools.islice(v, k)]\n",
    "heapq.heapify(min_heap)\n",
    "\n",
    "for x in v[k:]:\n",
    "    # push next string and pop the shortest string in min_heap\n",
    "    heapq.heappushpop(min_heap, (len(x), x))\n",
    "#     print(x)\n",
    "#     print(min_heap)\n",
    "\n",
    "min_heap\n",
    "# [p[1] for p in heapq.nsmallest(k, min_heap)]"
   ]
  },
  {
   "cell_type": "code",
   "execution_count": 36,
   "metadata": {},
   "outputs": [
    {
     "data": {
      "text/plain": [
       "['sales taxxxx', 'doc fees2123123123', '5959995999599959995999599999']"
      ]
     },
     "execution_count": 36,
     "metadata": {},
     "output_type": "execute_result"
    }
   ],
   "source": [
    "[p[1] for p in heapq.nsmallest(k, min_heap)]"
   ]
  },
  {
   "cell_type": "code",
   "execution_count": 37,
   "metadata": {},
   "outputs": [
    {
     "data": {
      "text/plain": [
       "['sales taxxxx', 'doc fees2123123123', '5959995999599959995999599999']"
      ]
     },
     "execution_count": 37,
     "metadata": {},
     "output_type": "execute_result"
    }
   ],
   "source": [
    "[p[1] for p in min_heap]"
   ]
  },
  {
   "cell_type": "code",
   "execution_count": null,
   "metadata": {},
   "outputs": [],
   "source": []
  },
  {
   "cell_type": "code",
   "execution_count": 13,
   "metadata": {},
   "outputs": [
    {
     "data": {
      "text/plain": [
       "[401, 561, 561]"
      ]
     },
     "execution_count": 13,
     "metadata": {},
     "output_type": "execute_result"
    }
   ],
   "source": [
    "min_heap"
   ]
  },
  {
   "cell_type": "code",
   "execution_count": 8,
   "metadata": {},
   "outputs": [],
   "source": [
    "heapq.heapify(min_heap)"
   ]
  },
  {
   "cell_type": "code",
   "execution_count": 9,
   "metadata": {},
   "outputs": [
    {
     "data": {
      "text/plain": [
       "[314, 561, 401]"
      ]
     },
     "execution_count": 9,
     "metadata": {},
     "output_type": "execute_result"
    }
   ],
   "source": [
    "min_heap"
   ]
  },
  {
   "cell_type": "code",
   "execution_count": 98,
   "metadata": {},
   "outputs": [
    {
     "data": {
      "text/plain": [
       "9096"
      ]
     },
     "execution_count": 98,
     "metadata": {},
     "output_type": "execute_result"
    }
   ],
   "source": [
    "import functools\n",
    "s = 'ji\\x00'\n",
    "\n",
    "functools.reduce(lambda v, c: (v*456 + ord(c))%10**4, s, 0)"
   ]
  },
  {
   "cell_type": "code",
   "execution_count": 77,
   "metadata": {},
   "outputs": [
    {
     "data": {
      "text/plain": [
       "106"
      ]
     },
     "execution_count": 77,
     "metadata": {},
     "output_type": "execute_result"
    }
   ],
   "source": [
    "ord(s)"
   ]
  },
  {
   "cell_type": "code",
   "execution_count": 92,
   "metadata": {},
   "outputs": [
    {
     "data": {
      "text/plain": [
       "'\\x00'"
      ]
     },
     "execution_count": 92,
     "metadata": {},
     "output_type": "execute_result"
    }
   ],
   "source": [
    "chr(0)"
   ]
  },
  {
   "cell_type": "code",
   "execution_count": 93,
   "metadata": {},
   "outputs": [
    {
     "data": {
      "text/plain": [
       "0"
      ]
     },
     "execution_count": 93,
     "metadata": {},
     "output_type": "execute_result"
    }
   ],
   "source": [
    "ord('\\x00')"
   ]
  },
  {
   "cell_type": "code",
   "execution_count": 84,
   "metadata": {},
   "outputs": [
    {
     "data": {
      "text/plain": [
       "48441"
      ]
     },
     "execution_count": 84,
     "metadata": {},
     "output_type": "execute_result"
    }
   ],
   "source": [
    "ord('j') * 456 + ord('i')"
   ]
  },
  {
   "cell_type": "code",
   "execution_count": 96,
   "metadata": {
    "scrolled": true
   },
   "outputs": [
    {
     "name": "stdout",
     "output_type": "stream",
     "text": [
      "j\n",
      "i\n",
      "\u0000\n"
     ]
    }
   ],
   "source": [
    "functools.reduce(lambda v, c: print(v*456, c), s, 0)"
   ]
  },
  {
   "cell_type": "code",
   "execution_count": 16,
   "metadata": {},
   "outputs": [
    {
     "data": {
      "text/plain": [
       "3"
      ]
     },
     "execution_count": 16,
     "metadata": {},
     "output_type": "execute_result"
    }
   ],
   "source": [
    "v = [0, 1, 2, 3, 4, 5]\n",
    "v[~2]"
   ]
  },
  {
   "cell_type": "code",
   "execution_count": null,
   "metadata": {},
   "outputs": [],
   "source": []
  },
  {
   "cell_type": "code",
   "execution_count": null,
   "metadata": {},
   "outputs": [],
   "source": []
  },
  {
   "cell_type": "code",
   "execution_count": 20,
   "metadata": {},
   "outputs": [
    {
     "data": {
      "text/plain": [
       "[['debitcard', 'badcredit'], ['elvis', 'lives', 'levis'], ['silent', 'listen']]"
      ]
     },
     "execution_count": 20,
     "metadata": {},
     "output_type": "execute_result"
    }
   ],
   "source": [
    "from collections import defaultdict\n",
    "\n",
    "d = 'debitcard, elvis, silent, badcredit, lives, freedom, listen, levis, money'.split(', ')\n",
    "\n",
    "def find_anagrams(d):\n",
    "    sorted_words = defaultdict(list)\n",
    "    for x in d:\n",
    "        sorted_words[''.join(sorted(x))].append(x)\n",
    "    return [x for x in sorted_words.values() if len(x) >= 2]\n",
    "\n",
    "\n",
    "find_anagrams(d)"
   ]
  },
  {
   "cell_type": "code",
   "execution_count": null,
   "metadata": {},
   "outputs": [],
   "source": []
  },
  {
   "cell_type": "code",
   "execution_count": null,
   "metadata": {},
   "outputs": [],
   "source": []
  },
  {
   "cell_type": "code",
   "execution_count": null,
   "metadata": {},
   "outputs": [],
   "source": []
  },
  {
   "cell_type": "code",
   "execution_count": null,
   "metadata": {},
   "outputs": [],
   "source": []
  },
  {
   "cell_type": "code",
   "execution_count": null,
   "metadata": {},
   "outputs": [],
   "source": []
  },
  {
   "cell_type": "code",
   "execution_count": null,
   "metadata": {},
   "outputs": [],
   "source": []
  },
  {
   "cell_type": "code",
   "execution_count": null,
   "metadata": {},
   "outputs": [],
   "source": []
  },
  {
   "cell_type": "code",
   "execution_count": null,
   "metadata": {},
   "outputs": [],
   "source": []
  },
  {
   "cell_type": "code",
   "execution_count": null,
   "metadata": {},
   "outputs": [],
   "source": []
  },
  {
   "cell_type": "code",
   "execution_count": null,
   "metadata": {},
   "outputs": [],
   "source": []
  },
  {
   "cell_type": "code",
   "execution_count": null,
   "metadata": {},
   "outputs": [],
   "source": []
  },
  {
   "cell_type": "code",
   "execution_count": null,
   "metadata": {},
   "outputs": [],
   "source": []
  },
  {
   "cell_type": "code",
   "execution_count": null,
   "metadata": {},
   "outputs": [],
   "source": []
  },
  {
   "cell_type": "code",
   "execution_count": 123,
   "metadata": {},
   "outputs": [
    {
     "name": "stdout",
     "output_type": "stream",
     "text": [
      "defaultdict(<class 'list'>, {'abcddeirt': ['debitcard', 'badcredit'], 'eilsv': ['elvis', 'lives', 'levis'], 'eilnst': ['silent', 'listen'], 'deefmor': ['freedom'], 'emnoy': ['money']})\n"
     ]
    },
    {
     "data": {
      "text/plain": [
       "[['debitcard', 'badcredit'], ['elvis', 'lives', 'levis'], ['silent', 'listen']]"
      ]
     },
     "execution_count": 123,
     "metadata": {},
     "output_type": "execute_result"
    }
   ],
   "source": [
    "from collections import defaultdict\n",
    "d = 'debitcard, elvis, silent, badcredit, lives, freedom, listen, levis, money'.split(', ')\n",
    "\n",
    "def find_anagrams(d):\n",
    "    sorted_keys_dict = defaultdict(list)\n",
    "    for x in d:\n",
    "        sorted_keys_dict[''.join(sorted(x))].append(x)\n",
    "    \n",
    "    print(sorted_keys_dict)\n",
    "    return [group for group in sorted_keys_dict.values() if len(group) >= 2]\n",
    "\n",
    "find_anagrams(d)"
   ]
  },
  {
   "cell_type": "code",
   "execution_count": 134,
   "metadata": {
    "scrolled": true
   },
   "outputs": [
    {
     "data": {
      "text/plain": [
       "5428568870249553735"
      ]
     },
     "execution_count": 134,
     "metadata": {},
     "output_type": "execute_result"
    }
   ],
   "source": [
    "hash('where are you')"
   ]
  },
  {
   "cell_type": "code",
   "execution_count": 132,
   "metadata": {},
   "outputs": [],
   "source": [
    "s = {2, 5, 4343}\n",
    "a = frozenset(s)"
   ]
  },
  {
   "cell_type": "code",
   "execution_count": 133,
   "metadata": {},
   "outputs": [],
   "source": [
    "s2 = {4343, 5, 2}\n",
    "b = frozenset(s2)\n",
    "assert a == b"
   ]
  },
  {
   "cell_type": "code",
   "execution_count": 4,
   "metadata": {},
   "outputs": [
    {
     "data": {
      "text/plain": [
       "0"
      ]
     },
     "execution_count": 4,
     "metadata": {},
     "output_type": "execute_result"
    }
   ],
   "source": [
    "def max_profit(v):\n",
    "    low, max_profit = v[0], 0\n",
    "    for i in range(1, len(v)):\n",
    "        if v[i] < low:\n",
    "            low = v[i]\n",
    "        max_profit = max(max_profit, v[i] - low)\n",
    "        \n",
    "    return max_profit\n",
    "    \n",
    "    \n",
    "\n",
    "\n",
    "\n",
    "# v = [310, 315, 275, 295, 260, 270, 290, 230, 255, 250]\n",
    "v = [4, 3]\n",
    "max_profit(v)"
   ]
  },
  {
   "cell_type": "code",
   "execution_count": null,
   "metadata": {},
   "outputs": [],
   "source": [
    "class Stack:\n",
    "    class MaxWithCount:\n",
    "        def __init__(self, max, count):\n",
    "            self.max, self.count = max, count\n",
    "            \n",
    "    def __init__(self):\n",
    "        self._element = []\n",
    "        self._cached_max_with_count = []\n",
    "    \n",
    "    def empty(self):\n",
    "        return len(self._element) == 0\n",
    "    \n",
    "    def max(self):\n",
    "        if self.empty():\n",
    "            raise IndexError('max(): empty stack')\n",
    "        return self._cached_max_with_count[-1].max\n",
    "    \n",
    "    \n",
    "    def pop(self):\n",
    "        if self.empty():\n",
    "            raise IndexError('pop(): empty stack')\n",
    "        # check if the popped element is the same as the latest max\n",
    "        pop_element = self._element.pop()\n",
    "        max = self.max()\n",
    "        if pop_element == max:\n",
    "            # subtract 1 from the count, if the value reaches 0, pop it\n",
    "            self._cached_max_with_count[-1].count -= 1\n",
    "            if self._cached_max_with_count[-1].count == 0:\n",
    "                self._cached_max_with_count.pop()\n",
    "        return pop_element\n",
    "        \n",
    "        \n",
    "    \n",
    "    def push(self, x):\n",
    "        self._element.append(x)\n",
    "        if len(self._cached_max_with_count) == 0:\n",
    "            self._cached_max_with_count.append(self.MaxWithCount(x, 1))\n",
    "        m = self.max()\n",
    "        if x == m:\n",
    "            self._cached_max_with_count[-1].count += 1\n",
    "        elif x > m:\n",
    "            self.cached_max_with_count.append(self.MaxWithCount(x, 1))\n",
    "        \n",
    "        \n",
    "    "
   ]
  },
  {
   "cell_type": "code",
   "execution_count": 3,
   "metadata": {},
   "outputs": [],
   "source": [
    "from collections import namedtuple\n",
    "\n",
    "def is_balanced_binary_tree(tree):\n",
    "    \"\"\"\n",
    "    inner function check_balanced() called on the nodes\n",
    "    postorder traversal, check if left and right subtree are balanced\n",
    "    \"\"\"\n",
    "    BalancedStatusWithHeight = namedtuple('BalancedStatusWithHeight', ('balanced', 'height'))\n",
    "    \n",
    "    # base case\n",
    "    if not tree:\n",
    "        return BalancedStatusWithHeight(True, -1)\n",
    "    \n",
    "    def check_balanced(tree):\n",
    "\n",
    "        # check left subtree\n",
    "        l = check_balanced(tree.left)\n",
    "        if not l.balanced:\n",
    "            return BalancedStatusWithHeight(False, 0)\n",
    "\n",
    "        # check right subtree\n",
    "        r = check_balanced(tree.right)\n",
    "        if not r.balanced:\n",
    "            return BalancedStatusWithHeight(False, 0)\n",
    "    \n",
    "        # compute whether root node is balanced, update the height\n",
    "        is_balanced = abs(l.height - r.height) <= 1\n",
    "        height = max(l.height, r.height) + 1\n",
    "        return BalancedStatusWithHeight(is_balanced, height)\n",
    "    \n",
    "    \n",
    "    return check_balanced(tree).balanced"
   ]
  },
  {
   "cell_type": "code",
   "execution_count": null,
   "metadata": {},
   "outputs": [],
   "source": []
  },
  {
   "cell_type": "code",
   "execution_count": null,
   "metadata": {},
   "outputs": [],
   "source": []
  },
  {
   "cell_type": "code",
   "execution_count": null,
   "metadata": {},
   "outputs": [],
   "source": []
  },
  {
   "cell_type": "code",
   "execution_count": null,
   "metadata": {},
   "outputs": [],
   "source": []
  },
  {
   "cell_type": "code",
   "execution_count": null,
   "metadata": {},
   "outputs": [],
   "source": []
  },
  {
   "cell_type": "code",
   "execution_count": null,
   "metadata": {},
   "outputs": [],
   "source": []
  },
  {
   "cell_type": "code",
   "execution_count": null,
   "metadata": {},
   "outputs": [],
   "source": []
  },
  {
   "cell_type": "code",
   "execution_count": null,
   "metadata": {},
   "outputs": [],
   "source": []
  },
  {
   "cell_type": "code",
   "execution_count": null,
   "metadata": {},
   "outputs": [],
   "source": []
  },
  {
   "cell_type": "code",
   "execution_count": null,
   "metadata": {},
   "outputs": [],
   "source": []
  },
  {
   "cell_type": "code",
   "execution_count": null,
   "metadata": {},
   "outputs": [],
   "source": []
  },
  {
   "cell_type": "code",
   "execution_count": null,
   "metadata": {},
   "outputs": [],
   "source": []
  }
 ],
 "metadata": {
  "kernelspec": {
   "display_name": "Python 3",
   "language": "python",
   "name": "python3"
  },
  "language_info": {
   "codemirror_mode": {
    "name": "ipython",
    "version": 3
   },
   "file_extension": ".py",
   "mimetype": "text/x-python",
   "name": "python",
   "nbconvert_exporter": "python",
   "pygments_lexer": "ipython3",
   "version": "3.8.8"
  }
 },
 "nbformat": 4,
 "nbformat_minor": 2
}
